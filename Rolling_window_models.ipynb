{
  "cells": [
    {
      "cell_type": "code",
      "execution_count": null,
      "metadata": {
        "colab": {
          "base_uri": "https://localhost:8080/"
        },
        "id": "0dIrrgYGCbI9",
        "outputId": "78f53573-ac78-4579-bf9e-a24262d0836d"
      },
      "outputs": [
        {
          "name": "stdout",
          "output_type": "stream",
          "text": [
            "Collecting lime\n",
            "  Downloading lime-0.2.0.1.tar.gz (275 kB)\n",
            "\u001b[2K     \u001b[90m━━━━━━━━━━━━━━━━━━━━━━━━━━━━━━━━━━━━━━━━\u001b[0m \u001b[32m275.7/275.7 kB\u001b[0m \u001b[31m3.7 MB/s\u001b[0m eta \u001b[36m0:00:00\u001b[0m\n",
            "\u001b[?25h  Preparing metadata (setup.py) ... \u001b[?25l\u001b[?25hdone\n",
            "Requirement already satisfied: nltk in /usr/local/lib/python3.10/dist-packages (3.8.1)\n",
            "Requirement already satisfied: matplotlib in /usr/local/lib/python3.10/dist-packages (from lime) (3.7.1)\n",
            "Requirement already satisfied: numpy in /usr/local/lib/python3.10/dist-packages (from lime) (1.23.5)\n",
            "Requirement already satisfied: scipy in /usr/local/lib/python3.10/dist-packages (from lime) (1.11.4)\n",
            "Requirement already satisfied: tqdm in /usr/local/lib/python3.10/dist-packages (from lime) (4.66.1)\n",
            "Requirement already satisfied: scikit-learn>=0.18 in /usr/local/lib/python3.10/dist-packages (from lime) (1.2.2)\n",
            "Requirement already satisfied: scikit-image>=0.12 in /usr/local/lib/python3.10/dist-packages (from lime) (0.19.3)\n",
            "Requirement already satisfied: click in /usr/local/lib/python3.10/dist-packages (from nltk) (8.1.7)\n",
            "Requirement already satisfied: joblib in /usr/local/lib/python3.10/dist-packages (from nltk) (1.3.2)\n",
            "Requirement already satisfied: regex>=2021.8.3 in /usr/local/lib/python3.10/dist-packages (from nltk) (2023.6.3)\n",
            "Requirement already satisfied: networkx>=2.2 in /usr/local/lib/python3.10/dist-packages (from scikit-image>=0.12->lime) (3.2.1)\n",
            "Requirement already satisfied: pillow!=7.1.0,!=7.1.1,!=8.3.0,>=6.1.0 in /usr/local/lib/python3.10/dist-packages (from scikit-image>=0.12->lime) (9.4.0)\n",
            "Requirement already satisfied: imageio>=2.4.1 in /usr/local/lib/python3.10/dist-packages (from scikit-image>=0.12->lime) (2.31.6)\n",
            "Requirement already satisfied: tifffile>=2019.7.26 in /usr/local/lib/python3.10/dist-packages (from scikit-image>=0.12->lime) (2023.12.9)\n",
            "Requirement already satisfied: PyWavelets>=1.1.1 in /usr/local/lib/python3.10/dist-packages (from scikit-image>=0.12->lime) (1.5.0)\n",
            "Requirement already satisfied: packaging>=20.0 in /usr/local/lib/python3.10/dist-packages (from scikit-image>=0.12->lime) (23.2)\n",
            "Requirement already satisfied: threadpoolctl>=2.0.0 in /usr/local/lib/python3.10/dist-packages (from scikit-learn>=0.18->lime) (3.2.0)\n",
            "Requirement already satisfied: contourpy>=1.0.1 in /usr/local/lib/python3.10/dist-packages (from matplotlib->lime) (1.2.0)\n",
            "Requirement already satisfied: cycler>=0.10 in /usr/local/lib/python3.10/dist-packages (from matplotlib->lime) (0.12.1)\n",
            "Requirement already satisfied: fonttools>=4.22.0 in /usr/local/lib/python3.10/dist-packages (from matplotlib->lime) (4.47.2)\n",
            "Requirement already satisfied: kiwisolver>=1.0.1 in /usr/local/lib/python3.10/dist-packages (from matplotlib->lime) (1.4.5)\n",
            "Requirement already satisfied: pyparsing>=2.3.1 in /usr/local/lib/python3.10/dist-packages (from matplotlib->lime) (3.1.1)\n",
            "Requirement already satisfied: python-dateutil>=2.7 in /usr/local/lib/python3.10/dist-packages (from matplotlib->lime) (2.8.2)\n",
            "Requirement already satisfied: six>=1.5 in /usr/local/lib/python3.10/dist-packages (from python-dateutil>=2.7->matplotlib->lime) (1.16.0)\n",
            "Building wheels for collected packages: lime\n",
            "  Building wheel for lime (setup.py) ... \u001b[?25l\u001b[?25hdone\n",
            "  Created wheel for lime: filename=lime-0.2.0.1-py3-none-any.whl size=283835 sha256=6178db71ed2c81e90fa9e2331ff5456abec5c79a9d0f574938ed062024dc793b\n",
            "  Stored in directory: /root/.cache/pip/wheels/fd/a2/af/9ac0a1a85a27f314a06b39e1f492bee1547d52549a4606ed89\n",
            "Successfully built lime\n",
            "Installing collected packages: lime\n",
            "Successfully installed lime-0.2.0.1\n",
            "Requirement already satisfied: lime[lime_text] in /usr/local/lib/python3.10/dist-packages (0.2.0.1)\n",
            "\u001b[33mWARNING: lime 0.2.0.1 does not provide the extra 'lime_text'\u001b[0m\u001b[33m\n",
            "\u001b[0mRequirement already satisfied: matplotlib in /usr/local/lib/python3.10/dist-packages (from lime[lime_text]) (3.7.1)\n",
            "Requirement already satisfied: numpy in /usr/local/lib/python3.10/dist-packages (from lime[lime_text]) (1.23.5)\n",
            "Requirement already satisfied: scipy in /usr/local/lib/python3.10/dist-packages (from lime[lime_text]) (1.11.4)\n",
            "Requirement already satisfied: tqdm in /usr/local/lib/python3.10/dist-packages (from lime[lime_text]) (4.66.1)\n",
            "Requirement already satisfied: scikit-learn>=0.18 in /usr/local/lib/python3.10/dist-packages (from lime[lime_text]) (1.2.2)\n",
            "Requirement already satisfied: scikit-image>=0.12 in /usr/local/lib/python3.10/dist-packages (from lime[lime_text]) (0.19.3)\n",
            "Requirement already satisfied: networkx>=2.2 in /usr/local/lib/python3.10/dist-packages (from scikit-image>=0.12->lime[lime_text]) (3.2.1)\n",
            "Requirement already satisfied: pillow!=7.1.0,!=7.1.1,!=8.3.0,>=6.1.0 in /usr/local/lib/python3.10/dist-packages (from scikit-image>=0.12->lime[lime_text]) (9.4.0)\n",
            "Requirement already satisfied: imageio>=2.4.1 in /usr/local/lib/python3.10/dist-packages (from scikit-image>=0.12->lime[lime_text]) (2.31.6)\n",
            "Requirement already satisfied: tifffile>=2019.7.26 in /usr/local/lib/python3.10/dist-packages (from scikit-image>=0.12->lime[lime_text]) (2023.12.9)\n",
            "Requirement already satisfied: PyWavelets>=1.1.1 in /usr/local/lib/python3.10/dist-packages (from scikit-image>=0.12->lime[lime_text]) (1.5.0)\n",
            "Requirement already satisfied: packaging>=20.0 in /usr/local/lib/python3.10/dist-packages (from scikit-image>=0.12->lime[lime_text]) (23.2)\n",
            "Requirement already satisfied: joblib>=1.1.1 in /usr/local/lib/python3.10/dist-packages (from scikit-learn>=0.18->lime[lime_text]) (1.3.2)\n",
            "Requirement already satisfied: threadpoolctl>=2.0.0 in /usr/local/lib/python3.10/dist-packages (from scikit-learn>=0.18->lime[lime_text]) (3.2.0)\n",
            "Requirement already satisfied: contourpy>=1.0.1 in /usr/local/lib/python3.10/dist-packages (from matplotlib->lime[lime_text]) (1.2.0)\n",
            "Requirement already satisfied: cycler>=0.10 in /usr/local/lib/python3.10/dist-packages (from matplotlib->lime[lime_text]) (0.12.1)\n",
            "Requirement already satisfied: fonttools>=4.22.0 in /usr/local/lib/python3.10/dist-packages (from matplotlib->lime[lime_text]) (4.47.2)\n",
            "Requirement already satisfied: kiwisolver>=1.0.1 in /usr/local/lib/python3.10/dist-packages (from matplotlib->lime[lime_text]) (1.4.5)\n",
            "Requirement already satisfied: pyparsing>=2.3.1 in /usr/local/lib/python3.10/dist-packages (from matplotlib->lime[lime_text]) (3.1.1)\n",
            "Requirement already satisfied: python-dateutil>=2.7 in /usr/local/lib/python3.10/dist-packages (from matplotlib->lime[lime_text]) (2.8.2)\n",
            "Requirement already satisfied: six>=1.5 in /usr/local/lib/python3.10/dist-packages (from python-dateutil>=2.7->matplotlib->lime[lime_text]) (1.16.0)\n"
          ]
        }
      ],
      "source": [
        "!pip install lime nltk\n",
        "!pip install lime[lime_text]"
      ]
    },
    {
      "cell_type": "code",
      "execution_count": null,
      "metadata": {
        "id": "pAB96uEN_Ki_"
      },
      "outputs": [],
      "source": [
        "import pandas as pd\n",
        "from sklearn.model_selection import train_test_split\n",
        "from sklearn.feature_extraction.text import TfidfVectorizer\n",
        "from sklearn.preprocessing import LabelEncoder\n",
        "from sklearn.tree import DecisionTreeClassifier\n",
        "from sklearn.neighbors import KNeighborsClassifier\n",
        "from sklearn.linear_model import LogisticRegression\n",
        "from sklearn.naive_bayes import MultinomialNB\n",
        "from sklearn.ensemble import RandomForestClassifier\n",
        "from sklearn.svm import SVC\n",
        "from sklearn.metrics import accuracy_score\n",
        "from nltk.corpus import stopwords\n",
        "from nltk.tokenize import word_tokenize\n",
        "from sklearn.pipeline import Pipeline\n",
        "import numpy as np\n",
        "from sklearn.model_selection import TimeSeriesSplit\n",
        "from sklearn.metrics import accuracy_score, precision_score, recall_score, f1_score\n",
        "from sklearn.metrics import classification_report\n",
        "from sklearn.metrics import roc_auc_score\n",
        "from sklearn.multiclass import OneVsRestClassifier\n",
        "from imblearn.over_sampling import SMOTE\n"
      ]
    },
    {
      "cell_type": "code",
      "execution_count": null,
      "metadata": {
        "id": "pj2l8kavBUGv"
      },
      "outputs": [],
      "source": [
        "df = pd.read_csv(\"/content/drive/MyDrive/Economic Times/SENTIMENT.CSV\")\n"
      ]
    },
    {
      "cell_type": "code",
      "execution_count": null,
      "metadata": {
        "colab": {
          "base_uri": "https://localhost:8080/",
          "height": 689
        },
        "id": "6d6efaftBcpR",
        "outputId": "86ae9a9d-d371-4722-f8af-ad5cede354eb"
      },
      "outputs": [
        {
          "data": {
            "text/html": [
              "\n",
              "  <div id=\"df-bf9ab2f3-d8ef-4269-a566-e34e60a969e4\" class=\"colab-df-container\">\n",
              "    <div>\n",
              "<style scoped>\n",
              "    .dataframe tbody tr th:only-of-type {\n",
              "        vertical-align: middle;\n",
              "    }\n",
              "\n",
              "    .dataframe tbody tr th {\n",
              "        vertical-align: top;\n",
              "    }\n",
              "\n",
              "    .dataframe thead th {\n",
              "        text-align: right;\n",
              "    }\n",
              "</style>\n",
              "<table border=\"1\" class=\"dataframe\">\n",
              "  <thead>\n",
              "    <tr style=\"text-align: right;\">\n",
              "      <th></th>\n",
              "      <th>Headline</th>\n",
              "      <th>Summary</th>\n",
              "      <th>Content</th>\n",
              "      <th>Category</th>\n",
              "      <th>Date_Time</th>\n",
              "      <th>type_cat</th>\n",
              "      <th>Date</th>\n",
              "      <th>target</th>\n",
              "      <th>assigned_topic</th>\n",
              "      <th>topic_name</th>\n",
              "      <th>...</th>\n",
              "      <th>bert_label</th>\n",
              "      <th>positive_probability_d</th>\n",
              "      <th>neutral_probability_d</th>\n",
              "      <th>negative_probability_d</th>\n",
              "      <th>pos_prob_d</th>\n",
              "      <th>neg_prob_d</th>\n",
              "      <th>deberta_label</th>\n",
              "      <th>finvader</th>\n",
              "      <th>finvader_label</th>\n",
              "      <th>text_id</th>\n",
              "    </tr>\n",
              "  </thead>\n",
              "  <tbody>\n",
              "    <tr>\n",
              "      <th>0</th>\n",
              "      <td>Rs  note costs govt Rs  to print</td>\n",
              "      <td>cost money make money last reserve bank india ...</td>\n",
              "      <td>This story originally appeared in   on Jan   M...</td>\n",
              "      <td>['Business News', 'News', 'Economy', 'Finance']</td>\n",
              "      <td>Jan 01, 2012, 01:43 AM</td>\n",
              "      <td>Finance</td>\n",
              "      <td>01-01-2012</td>\n",
              "      <td>story originally appear jan mumbai cost money ...</td>\n",
              "      <td>28</td>\n",
              "      <td>Currency Issue and Demonetization</td>\n",
              "      <td>...</td>\n",
              "      <td>negative</td>\n",
              "      <td>0.007144</td>\n",
              "      <td>0.984902</td>\n",
              "      <td>0.007953</td>\n",
              "      <td>0.473199</td>\n",
              "      <td>0.526801</td>\n",
              "      <td>negative</td>\n",
              "      <td>0.4009</td>\n",
              "      <td>positive</td>\n",
              "      <td>0</td>\n",
              "    </tr>\n",
              "    <tr>\n",
              "      <th>1</th>\n",
              "      <td>Rs  note costs govt Rs  to print</td>\n",
              "      <td>last reserve bank india spent crore printing c...</td>\n",
              "      <td>This story originally appeared in   on Jan   M...</td>\n",
              "      <td>['Business News', 'News', 'Economy', 'Finance']</td>\n",
              "      <td>Jan 01, 2012, 03:26 AM</td>\n",
              "      <td>Finance</td>\n",
              "      <td>01-01-2012</td>\n",
              "      <td>story originally appear jan mumbai cost money ...</td>\n",
              "      <td>28</td>\n",
              "      <td>Currency Issue and Demonetization</td>\n",
              "      <td>...</td>\n",
              "      <td>negative</td>\n",
              "      <td>0.001496</td>\n",
              "      <td>0.993581</td>\n",
              "      <td>0.004924</td>\n",
              "      <td>0.232996</td>\n",
              "      <td>0.767004</td>\n",
              "      <td>negative</td>\n",
              "      <td>0.3705</td>\n",
              "      <td>positive</td>\n",
              "      <td>1</td>\n",
              "    </tr>\n",
              "    <tr>\n",
              "      <th>2</th>\n",
              "      <td>Black money Government doubles strength of for...</td>\n",
              "      <td>ministry recently gave approval creating unit ...</td>\n",
              "      <td>NEW DELHI As part of efforts to fight  black m...</td>\n",
              "      <td>['Business News', 'News', 'Economy', 'Finance']</td>\n",
              "      <td>Jan 01, 2012, 09:11 AM</td>\n",
              "      <td>Finance</td>\n",
              "      <td>01-01-2012</td>\n",
              "      <td>new delhi part effort fight black money govern...</td>\n",
              "      <td>0</td>\n",
              "      <td>Finance and Government</td>\n",
              "      <td>...</td>\n",
              "      <td>negative</td>\n",
              "      <td>0.002943</td>\n",
              "      <td>0.793054</td>\n",
              "      <td>0.204002</td>\n",
              "      <td>0.014222</td>\n",
              "      <td>0.985778</td>\n",
              "      <td>negative</td>\n",
              "      <td>0.3049</td>\n",
              "      <td>negative</td>\n",
              "      <td>2</td>\n",
              "    </tr>\n",
              "    <tr>\n",
              "      <th>3</th>\n",
              "      <td>Corporate governance issues too play spoilspor...</td>\n",
              "      <td>foreign portfolio investment indian stock debt...</td>\n",
              "      <td>MUMBAI Overseas investors cold shoulder to Ind...</td>\n",
              "      <td>['Business News', 'News', 'Economy', 'Finance']</td>\n",
              "      <td>Jan 02, 2012, 11:38 PM</td>\n",
              "      <td>Finance</td>\n",
              "      <td>02-01-2012</td>\n",
              "      <td>mumbai overseas investor cold shoulder india m...</td>\n",
              "      <td>26</td>\n",
              "      <td>Investment and Economic Growth</td>\n",
              "      <td>...</td>\n",
              "      <td>positive</td>\n",
              "      <td>0.936486</td>\n",
              "      <td>0.053332</td>\n",
              "      <td>0.010182</td>\n",
              "      <td>0.989244</td>\n",
              "      <td>0.010756</td>\n",
              "      <td>positive</td>\n",
              "      <td>-0.3538</td>\n",
              "      <td>negative</td>\n",
              "      <td>3</td>\n",
              "    </tr>\n",
              "    <tr>\n",
              "      <th>4</th>\n",
              "      <td>Government readies Rs  crore infra fund plan</td>\n",
              "      <td>government finalized contour crore infrastruct...</td>\n",
              "      <td>This story originally appeared in   on Jan   N...</td>\n",
              "      <td>['Business News', 'News', 'Economy', 'Finance']</td>\n",
              "      <td>Jan 03, 2012, 03:57 AM</td>\n",
              "      <td>Finance</td>\n",
              "      <td>03-01-2012</td>\n",
              "      <td>story originally appear jan new delhi governme...</td>\n",
              "      <td>0</td>\n",
              "      <td>Finance and Government</td>\n",
              "      <td>...</td>\n",
              "      <td>negative</td>\n",
              "      <td>0.001454</td>\n",
              "      <td>0.991229</td>\n",
              "      <td>0.007317</td>\n",
              "      <td>0.165788</td>\n",
              "      <td>0.834212</td>\n",
              "      <td>negative</td>\n",
              "      <td>-0.3400</td>\n",
              "      <td>negative</td>\n",
              "      <td>4</td>\n",
              "    </tr>\n",
              "  </tbody>\n",
              "</table>\n",
              "<p>5 rows × 35 columns</p>\n",
              "</div>\n",
              "    <div class=\"colab-df-buttons\">\n",
              "\n",
              "  <div class=\"colab-df-container\">\n",
              "    <button class=\"colab-df-convert\" onclick=\"convertToInteractive('df-bf9ab2f3-d8ef-4269-a566-e34e60a969e4')\"\n",
              "            title=\"Convert this dataframe to an interactive table.\"\n",
              "            style=\"display:none;\">\n",
              "\n",
              "  <svg xmlns=\"http://www.w3.org/2000/svg\" height=\"24px\" viewBox=\"0 -960 960 960\">\n",
              "    <path d=\"M120-120v-720h720v720H120Zm60-500h600v-160H180v160Zm220 220h160v-160H400v160Zm0 220h160v-160H400v160ZM180-400h160v-160H180v160Zm440 0h160v-160H620v160ZM180-180h160v-160H180v160Zm440 0h160v-160H620v160Z\"/>\n",
              "  </svg>\n",
              "    </button>\n",
              "\n",
              "  <style>\n",
              "    .colab-df-container {\n",
              "      display:flex;\n",
              "      gap: 12px;\n",
              "    }\n",
              "\n",
              "    .colab-df-convert {\n",
              "      background-color: #E8F0FE;\n",
              "      border: none;\n",
              "      border-radius: 50%;\n",
              "      cursor: pointer;\n",
              "      display: none;\n",
              "      fill: #1967D2;\n",
              "      height: 32px;\n",
              "      padding: 0 0 0 0;\n",
              "      width: 32px;\n",
              "    }\n",
              "\n",
              "    .colab-df-convert:hover {\n",
              "      background-color: #E2EBFA;\n",
              "      box-shadow: 0px 1px 2px rgba(60, 64, 67, 0.3), 0px 1px 3px 1px rgba(60, 64, 67, 0.15);\n",
              "      fill: #174EA6;\n",
              "    }\n",
              "\n",
              "    .colab-df-buttons div {\n",
              "      margin-bottom: 4px;\n",
              "    }\n",
              "\n",
              "    [theme=dark] .colab-df-convert {\n",
              "      background-color: #3B4455;\n",
              "      fill: #D2E3FC;\n",
              "    }\n",
              "\n",
              "    [theme=dark] .colab-df-convert:hover {\n",
              "      background-color: #434B5C;\n",
              "      box-shadow: 0px 1px 3px 1px rgba(0, 0, 0, 0.15);\n",
              "      filter: drop-shadow(0px 1px 2px rgba(0, 0, 0, 0.3));\n",
              "      fill: #FFFFFF;\n",
              "    }\n",
              "  </style>\n",
              "\n",
              "    <script>\n",
              "      const buttonEl =\n",
              "        document.querySelector('#df-bf9ab2f3-d8ef-4269-a566-e34e60a969e4 button.colab-df-convert');\n",
              "      buttonEl.style.display =\n",
              "        google.colab.kernel.accessAllowed ? 'block' : 'none';\n",
              "\n",
              "      async function convertToInteractive(key) {\n",
              "        const element = document.querySelector('#df-bf9ab2f3-d8ef-4269-a566-e34e60a969e4');\n",
              "        const dataTable =\n",
              "          await google.colab.kernel.invokeFunction('convertToInteractive',\n",
              "                                                    [key], {});\n",
              "        if (!dataTable) return;\n",
              "\n",
              "        const docLinkHtml = 'Like what you see? Visit the ' +\n",
              "          '<a target=\"_blank\" href=https://colab.research.google.com/notebooks/data_table.ipynb>data table notebook</a>'\n",
              "          + ' to learn more about interactive tables.';\n",
              "        element.innerHTML = '';\n",
              "        dataTable['output_type'] = 'display_data';\n",
              "        await google.colab.output.renderOutput(dataTable, element);\n",
              "        const docLink = document.createElement('div');\n",
              "        docLink.innerHTML = docLinkHtml;\n",
              "        element.appendChild(docLink);\n",
              "      }\n",
              "    </script>\n",
              "  </div>\n",
              "\n",
              "\n",
              "<div id=\"df-42772f66-cb04-4a40-8acc-5cf3c32a2e83\">\n",
              "  <button class=\"colab-df-quickchart\" onclick=\"quickchart('df-42772f66-cb04-4a40-8acc-5cf3c32a2e83')\"\n",
              "            title=\"Suggest charts\"\n",
              "            style=\"display:none;\">\n",
              "\n",
              "<svg xmlns=\"http://www.w3.org/2000/svg\" height=\"24px\"viewBox=\"0 0 24 24\"\n",
              "     width=\"24px\">\n",
              "    <g>\n",
              "        <path d=\"M19 3H5c-1.1 0-2 .9-2 2v14c0 1.1.9 2 2 2h14c1.1 0 2-.9 2-2V5c0-1.1-.9-2-2-2zM9 17H7v-7h2v7zm4 0h-2V7h2v10zm4 0h-2v-4h2v4z\"/>\n",
              "    </g>\n",
              "</svg>\n",
              "  </button>\n",
              "\n",
              "<style>\n",
              "  .colab-df-quickchart {\n",
              "      --bg-color: #E8F0FE;\n",
              "      --fill-color: #1967D2;\n",
              "      --hover-bg-color: #E2EBFA;\n",
              "      --hover-fill-color: #174EA6;\n",
              "      --disabled-fill-color: #AAA;\n",
              "      --disabled-bg-color: #DDD;\n",
              "  }\n",
              "\n",
              "  [theme=dark] .colab-df-quickchart {\n",
              "      --bg-color: #3B4455;\n",
              "      --fill-color: #D2E3FC;\n",
              "      --hover-bg-color: #434B5C;\n",
              "      --hover-fill-color: #FFFFFF;\n",
              "      --disabled-bg-color: #3B4455;\n",
              "      --disabled-fill-color: #666;\n",
              "  }\n",
              "\n",
              "  .colab-df-quickchart {\n",
              "    background-color: var(--bg-color);\n",
              "    border: none;\n",
              "    border-radius: 50%;\n",
              "    cursor: pointer;\n",
              "    display: none;\n",
              "    fill: var(--fill-color);\n",
              "    height: 32px;\n",
              "    padding: 0;\n",
              "    width: 32px;\n",
              "  }\n",
              "\n",
              "  .colab-df-quickchart:hover {\n",
              "    background-color: var(--hover-bg-color);\n",
              "    box-shadow: 0 1px 2px rgba(60, 64, 67, 0.3), 0 1px 3px 1px rgba(60, 64, 67, 0.15);\n",
              "    fill: var(--button-hover-fill-color);\n",
              "  }\n",
              "\n",
              "  .colab-df-quickchart-complete:disabled,\n",
              "  .colab-df-quickchart-complete:disabled:hover {\n",
              "    background-color: var(--disabled-bg-color);\n",
              "    fill: var(--disabled-fill-color);\n",
              "    box-shadow: none;\n",
              "  }\n",
              "\n",
              "  .colab-df-spinner {\n",
              "    border: 2px solid var(--fill-color);\n",
              "    border-color: transparent;\n",
              "    border-bottom-color: var(--fill-color);\n",
              "    animation:\n",
              "      spin 1s steps(1) infinite;\n",
              "  }\n",
              "\n",
              "  @keyframes spin {\n",
              "    0% {\n",
              "      border-color: transparent;\n",
              "      border-bottom-color: var(--fill-color);\n",
              "      border-left-color: var(--fill-color);\n",
              "    }\n",
              "    20% {\n",
              "      border-color: transparent;\n",
              "      border-left-color: var(--fill-color);\n",
              "      border-top-color: var(--fill-color);\n",
              "    }\n",
              "    30% {\n",
              "      border-color: transparent;\n",
              "      border-left-color: var(--fill-color);\n",
              "      border-top-color: var(--fill-color);\n",
              "      border-right-color: var(--fill-color);\n",
              "    }\n",
              "    40% {\n",
              "      border-color: transparent;\n",
              "      border-right-color: var(--fill-color);\n",
              "      border-top-color: var(--fill-color);\n",
              "    }\n",
              "    60% {\n",
              "      border-color: transparent;\n",
              "      border-right-color: var(--fill-color);\n",
              "    }\n",
              "    80% {\n",
              "      border-color: transparent;\n",
              "      border-right-color: var(--fill-color);\n",
              "      border-bottom-color: var(--fill-color);\n",
              "    }\n",
              "    90% {\n",
              "      border-color: transparent;\n",
              "      border-bottom-color: var(--fill-color);\n",
              "    }\n",
              "  }\n",
              "</style>\n",
              "\n",
              "  <script>\n",
              "    async function quickchart(key) {\n",
              "      const quickchartButtonEl =\n",
              "        document.querySelector('#' + key + ' button');\n",
              "      quickchartButtonEl.disabled = true;  // To prevent multiple clicks.\n",
              "      quickchartButtonEl.classList.add('colab-df-spinner');\n",
              "      try {\n",
              "        const charts = await google.colab.kernel.invokeFunction(\n",
              "            'suggestCharts', [key], {});\n",
              "      } catch (error) {\n",
              "        console.error('Error during call to suggestCharts:', error);\n",
              "      }\n",
              "      quickchartButtonEl.classList.remove('colab-df-spinner');\n",
              "      quickchartButtonEl.classList.add('colab-df-quickchart-complete');\n",
              "    }\n",
              "    (() => {\n",
              "      let quickchartButtonEl =\n",
              "        document.querySelector('#df-42772f66-cb04-4a40-8acc-5cf3c32a2e83 button');\n",
              "      quickchartButtonEl.style.display =\n",
              "        google.colab.kernel.accessAllowed ? 'block' : 'none';\n",
              "    })();\n",
              "  </script>\n",
              "</div>\n",
              "\n",
              "    </div>\n",
              "  </div>\n"
            ],
            "text/plain": [
              "                                            Headline  \\\n",
              "0                   Rs  note costs govt Rs  to print   \n",
              "1                   Rs  note costs govt Rs  to print   \n",
              "2  Black money Government doubles strength of for...   \n",
              "3  Corporate governance issues too play spoilspor...   \n",
              "4       Government readies Rs  crore infra fund plan   \n",
              "\n",
              "                                             Summary  \\\n",
              "0  cost money make money last reserve bank india ...   \n",
              "1  last reserve bank india spent crore printing c...   \n",
              "2  ministry recently gave approval creating unit ...   \n",
              "3  foreign portfolio investment indian stock debt...   \n",
              "4  government finalized contour crore infrastruct...   \n",
              "\n",
              "                                             Content  \\\n",
              "0  This story originally appeared in   on Jan   M...   \n",
              "1  This story originally appeared in   on Jan   M...   \n",
              "2  NEW DELHI As part of efforts to fight  black m...   \n",
              "3  MUMBAI Overseas investors cold shoulder to Ind...   \n",
              "4  This story originally appeared in   on Jan   N...   \n",
              "\n",
              "                                          Category               Date_Time  \\\n",
              "0  ['Business News', 'News', 'Economy', 'Finance']  Jan 01, 2012, 01:43 AM   \n",
              "1  ['Business News', 'News', 'Economy', 'Finance']  Jan 01, 2012, 03:26 AM   \n",
              "2  ['Business News', 'News', 'Economy', 'Finance']  Jan 01, 2012, 09:11 AM   \n",
              "3  ['Business News', 'News', 'Economy', 'Finance']  Jan 02, 2012, 11:38 PM   \n",
              "4  ['Business News', 'News', 'Economy', 'Finance']  Jan 03, 2012, 03:57 AM   \n",
              "\n",
              "  type_cat        Date                                             target  \\\n",
              "0  Finance  01-01-2012  story originally appear jan mumbai cost money ...   \n",
              "1  Finance  01-01-2012  story originally appear jan mumbai cost money ...   \n",
              "2  Finance  01-01-2012  new delhi part effort fight black money govern...   \n",
              "3  Finance  02-01-2012  mumbai overseas investor cold shoulder india m...   \n",
              "4  Finance  03-01-2012  story originally appear jan new delhi governme...   \n",
              "\n",
              "   assigned_topic                         topic_name  ... bert_label  \\\n",
              "0              28  Currency Issue and Demonetization  ...   negative   \n",
              "1              28  Currency Issue and Demonetization  ...   negative   \n",
              "2               0             Finance and Government  ...   negative   \n",
              "3              26     Investment and Economic Growth  ...   positive   \n",
              "4               0             Finance and Government  ...   negative   \n",
              "\n",
              "  positive_probability_d neutral_probability_d negative_probability_d  \\\n",
              "0               0.007144              0.984902               0.007953   \n",
              "1               0.001496              0.993581               0.004924   \n",
              "2               0.002943              0.793054               0.204002   \n",
              "3               0.936486              0.053332               0.010182   \n",
              "4               0.001454              0.991229               0.007317   \n",
              "\n",
              "   pos_prob_d  neg_prob_d  deberta_label  finvader  finvader_label text_id  \n",
              "0    0.473199    0.526801       negative    0.4009        positive       0  \n",
              "1    0.232996    0.767004       negative    0.3705        positive       1  \n",
              "2    0.014222    0.985778       negative    0.3049        negative       2  \n",
              "3    0.989244    0.010756       positive   -0.3538        negative       3  \n",
              "4    0.165788    0.834212       negative   -0.3400        negative       4  \n",
              "\n",
              "[5 rows x 35 columns]"
            ]
          },
          "execution_count": 4,
          "metadata": {},
          "output_type": "execute_result"
        }
      ],
      "source": [
        "df.head()"
      ]
    },
    {
      "cell_type": "code",
      "execution_count": null,
      "metadata": {
        "colab": {
          "base_uri": "https://localhost:8080/",
          "height": 698
        },
        "id": "l0HAzqq9aA49",
        "outputId": "46d182d5-eeba-45ac-bd34-0fcea263202b"
      },
      "outputs": [
        {
          "name": "stderr",
          "output_type": "stream",
          "text": [
            "<ipython-input-5-16c4ef223002>:8: FutureWarning: \n",
            "\n",
            "Passing `palette` without assigning `hue` is deprecated and will be removed in v0.14.0. Assign the `x` variable to `hue` and set `legend=False` for the same effect.\n",
            "\n",
            "  sns.barplot(x=topic_counts.index, y=topic_counts.values, palette='viridis')\n"
          ]
        },
        {
          "data": {
            "image/png": "[encoded data removed]",
            "text/plain": [
              "<Figure size 1200x600 with 1 Axes>"
            ]
          },
          "metadata": {},
          "output_type": "display_data"
        }
      ],
      "source": [
        "import matplotlib.pyplot as plt\n",
        "import seaborn as sns\n",
        "\n",
        "# Assuming df is your DataFrame and 'topic_name' is the column containing topics\n",
        "topic_counts = df['topic_name'].value_counts()\n",
        "\n",
        "plt.figure(figsize=(12, 6))\n",
        "sns.barplot(x=topic_counts.index, y=topic_counts.values, palette='viridis')\n",
        "plt.title('Topics')\n",
        "plt.xlabel('Topic Name')\n",
        "plt.ylabel('Count')\n",
        "plt.xticks(rotation=45, ha='right')  # Adjust rotation for better visibility\n",
        "plt.tight_layout()\n",
        "plt.savefig(\"Topics.jpg\")\n",
        "plt.show()\n"
      ]
    },
    {
      "cell_type": "code",
      "execution_count": null,
      "metadata": {
        "colab": {
          "base_uri": "https://localhost:8080/"
        },
        "id": "6z5UyRPmBnYa",
        "outputId": "8f063d05-85c4-47b4-a92f-2aea915c48bf"
      },
      "outputs": [
        {
          "name": "stderr",
          "output_type": "stream",
          "text": [
            "<ipython-input-6-b9c6864122be>:1: UserWarning: Parsing dates in DD/MM/YYYY format when dayfirst=False (the default) was specified. This may lead to inconsistently parsed dates! Specify a format to ensure consistent parsing.\n",
            "  df['Date'] = pd.to_datetime(df['Date'])\n"
          ]
        }
      ],
      "source": [
        "df['Date'] = pd.to_datetime(df['Date'])"
      ]
    },
    {
      "cell_type": "code",
      "execution_count": null,
      "metadata": {
        "id": "qFZcAJEzCbt6"
      },
      "outputs": [],
      "source": [
        "label_encoder = LabelEncoder()\n",
        "df['deberta_label'] = label_encoder.fit_transform(df['deberta_label'])"
      ]
    },
    {
      "cell_type": "code",
      "execution_count": null,
      "metadata": {
        "colab": {
          "base_uri": "https://localhost:8080/",
          "height": 420
        },
        "id": "MaetBbv9YM14",
        "outputId": "bd870b1b-e1ab-483c-f89a-7f3c2617f474"
      },
      "outputs": [
        {
          "data": {
            "image/png": "[encoded data removed]",
            "text/plain": [
              "<Figure size 640x480 with 1 Axes>"
            ]
          },
          "metadata": {},
          "output_type": "display_data"
        }
      ],
      "source": [
        "import matplotlib.pyplot as plt\n",
        "\n",
        "# Assuming 'bert_label' is a categorical column in your DataFrame\n",
        "labels = df['deberta_label'].value_counts().index\n",
        "sizes = df['deberta_label'].value_counts().values\n",
        "\n",
        "# Plotting the pie chart\n",
        "plt.pie(sizes, labels=labels, autopct='%1.1f%%', startangle=140)\n",
        "plt.axis('equal')  # Equal aspect ratio ensures that pie is drawn as a circle.\n",
        "\n",
        "# Display the pie chart\n",
        "plt.show()"
      ]
    },
    {
      "cell_type": "code",
      "execution_count": null,
      "metadata": {
        "colab": {
          "base_uri": "https://localhost:8080/"
        },
        "id": "rkITvWlIg50f",
        "outputId": "3099f070-48c7-4a5e-a228-a2df7c4904f2"
      },
      "outputs": [
        {
          "name": "stdout",
          "output_type": "stream",
          "text": [
            "Label Mapping: {'negative': 0, 'positive': 1}\n"
          ]
        }
      ],
      "source": [
        "label_mapping = dict(zip(label_encoder.classes_, label_encoder.transform(label_encoder.classes_)))\n",
        "\n",
        "# Print the mapping\n",
        "print(\"Label Mapping:\", label_mapping)"
      ]
    },
    {
      "cell_type": "code",
      "execution_count": null,
      "metadata": {
        "id": "67fEchL6FR98"
      },
      "outputs": [],
      "source": [
        "# Split the data into training and testing based on the date\n",
        "train_data_chunk = df[df['Date'] < '2020-08-01']\n",
        "test_data_chunk = df[df['Date'] >= '2020-08-01']\n",
        "\n",
        "# Define the features and labels\n",
        "X_train = train_data_chunk['new_content']\n",
        "y_train_resampled = train_data_chunk['deberta_label']\n",
        "X_test = test_data_chunk['new_content']\n",
        "y_test = test_data_chunk['deberta_label']"
      ]
    },
    {
      "cell_type": "code",
      "execution_count": null,
      "metadata": {
        "colab": {
          "base_uri": "https://localhost:8080/"
        },
        "id": "z1Uu6QJYl_xU",
        "outputId": "736f145f-c02d-4660-ff3b-d639a95ce85c"
      },
      "outputs": [
        {
          "data": {
            "text/plain": [
              "{0: 0.6825961324738831, 1: 1.8691418137553257}"
            ]
          },
          "execution_count": 11,
          "metadata": {},
          "output_type": "execute_result"
        }
      ],
      "source": [
        "from sklearn.utils import compute_class_weight\n",
        "class_weights = compute_class_weight(\n",
        "                                        class_weight = \"balanced\",\n",
        "                                        classes = np.unique(y_train_resampled),\n",
        "                                        y = y_train_resampled\n",
        "                                    )\n",
        "class_weights = dict(zip(np.unique(y_train_resampled), class_weights))\n",
        "class_weights"
      ]
    },
    {
      "cell_type": "code",
      "execution_count": null,
      "metadata": {
        "colab": {
          "base_uri": "https://localhost:8080/"
        },
        "id": "tQimQMQqjrah",
        "outputId": "89c4a53c-4318-408b-8b2c-3627d0ab707a"
      },
      "outputs": [
        {
          "name": "stdout",
          "output_type": "stream",
          "text": [
            "Label Counts:\n",
            "0    899\n",
            "1    323\n",
            "Name: deberta_label, dtype: int64\n"
          ]
        }
      ],
      "source": [
        "label_counts = test_data_chunk['deberta_label'].value_counts()\n",
        "\n",
        "print(\"Label Counts:\")\n",
        "print(label_counts)"
      ]
    },
    {
      "cell_type": "markdown",
      "metadata": {
        "id": "m7O2wMnY--l7"
      },
      "source": [
        "Random Forest"
      ]
    },
    {
      "cell_type": "code",
      "execution_count": null,
      "metadata": {
        "colab": {
          "base_uri": "https://localhost:8080/"
        },
        "id": "g_GS1tFTF-BY",
        "outputId": "9137e17a-67b2-47eb-cabe-c6c6a39d119c"
      },
      "outputs": [
        {
          "name": "stdout",
          "output_type": "stream",
          "text": [
            "Validation score: 0.7414\n",
            "Validation score: 0.7713\n",
            "Validation score: 0.7322\n"
          ]
        },
        {
          "name": "stderr",
          "output_type": "stream",
          "text": [
            "<ipython-input-13-2dad4b343e9d>:48: SettingWithCopyWarning: \n",
            "A value is trying to be set on a copy of a slice from a DataFrame.\n",
            "Try using .loc[row_indexer,col_indexer] = value instead\n",
            "\n",
            "See the caveats in the documentation: https://pandas.pydata.org/pandas-docs/stable/user_guide/indexing.html#returning-a-view-versus-a-copy\n",
            "  test_data_chunk[f'Predicted_Probability_Class_{class_index}'] = test_probabilities[:, class_index]\n",
            "<ipython-input-13-2dad4b343e9d>:48: SettingWithCopyWarning: \n",
            "A value is trying to be set on a copy of a slice from a DataFrame.\n",
            "Try using .loc[row_indexer,col_indexer] = value instead\n",
            "\n",
            "See the caveats in the documentation: https://pandas.pydata.org/pandas-docs/stable/user_guide/indexing.html#returning-a-view-versus-a-copy\n",
            "  test_data_chunk[f'Predicted_Probability_Class_{class_index}'] = test_probabilities[:, class_index]\n",
            "<ipython-input-13-2dad4b343e9d>:51: SettingWithCopyWarning: \n",
            "A value is trying to be set on a copy of a slice from a DataFrame.\n",
            "Try using .loc[row_indexer,col_indexer] = value instead\n",
            "\n",
            "See the caveats in the documentation: https://pandas.pydata.org/pandas-docs/stable/user_guide/indexing.html#returning-a-view-versus-a-copy\n",
            "  test_data_chunk['Predicted_Class'] = rf_model.predict(X_test_text_features)\n"
          ]
        }
      ],
      "source": [
        "text_vectorizer = TfidfVectorizer(max_features=1000,ngram_range=(1,2))\n",
        "X_train_text_features_resampled = text_vectorizer.fit_transform(train_data_chunk['new_content']).toarray()\n",
        "X_test_text_features = text_vectorizer.transform(test_data_chunk['new_content']).toarray()\n",
        "# smote = SMOTE(random_state=42)\n",
        "# X_train_text_features_resampled, y_train_resampled = smote.fit_resample(X_train_text_features, y_train)\n",
        "\n",
        "# Step 2: Apply Time Series Cross-Validation with Random Forest\n",
        "tscv = TimeSeriesSplit(n_splits=3, max_train_size=None)\n",
        "\n",
        "# Define the RandomForestClassifier\n",
        "rf_model = RandomForestClassifier(random_state=42, class_weight = class_weights)\n",
        "\n",
        "# Initialize arrays to store results\n",
        "res_vec = np.zeros((3, 1))\n",
        "prv = np.zeros((len(train_data_chunk), 3))\n",
        "\n",
        "# Initialize DataFrame to store probability predictions\n",
        "probabilities_df = pd.DataFrame()\n",
        "\n",
        "for ii, (id0, id1) in enumerate(tscv.split(X_train_text_features_resampled)):\n",
        "    X_train_fold, X_val_fold = X_train_text_features_resampled[id0], X_train_text_features_resampled[id1]\n",
        "    y_train_fold, y_val_fold = y_train_resampled.iloc[id0], y_train_resampled.iloc[id1]\n",
        "\n",
        "    # Train Random Forest model with the best hyperparameters\n",
        "    rf_model.fit(X_train_fold, y_train_fold)\n",
        "\n",
        "    # Save probability predictions for the entire dataset\n",
        "    probabilities = rf_model.predict_proba(X_train_text_features_resampled)\n",
        "\n",
        "    # Save probability predictions for each class in the DataFrame\n",
        "    for class_index in range(2):\n",
        "        probabilities_df[f'Fold_{ii + 1}_Class_{class_index}'] = probabilities[:, class_index]\n",
        "\n",
        "    # Validation score\n",
        "    val_preds = rf_model.predict(X_val_fold)\n",
        "    score = np.round(accuracy_score(y_val_fold, val_preds), 4)\n",
        "    res_vec[ii] = score\n",
        "    print(\"Validation score: \" + str(score))\n",
        "\n",
        "# Train Random Forest model on the entire dataset\n",
        "rf_model.fit(X_train_text_features_resampled, y_train_resampled)\n",
        "\n",
        "# Predict on the test set only once\n",
        "test_probabilities = rf_model.predict_proba(X_test_text_features)\n",
        "test_pred_rf = rf_model.predict(X_test_text_features)\n",
        "# Save probability predictions for each class in the test_data_chunk DataFrame\n",
        "for class_index in range(2):\n",
        "    test_data_chunk[f'Predicted_Probability_Class_{class_index}'] = test_probabilities[:, class_index]\n",
        "\n",
        "# Optionally, you can also add the predicted class to the test_data_chunk DataFrame\n",
        "test_data_chunk['Predicted_Class'] = rf_model.predict(X_test_text_features)\n"
      ]
    },
    {
      "cell_type": "code",
      "execution_count": null,
      "metadata": {
        "colab": {
          "base_uri": "https://localhost:8080/"
        },
        "id": "vByokExTI7wt",
        "outputId": "4fc28bc6-0eeb-4f81-964e-41ef5b754d42"
      },
      "outputs": [
        {
          "name": "stdout",
          "output_type": "stream",
          "text": [
            "Classification Report:\n",
            "               precision    recall  f1-score   support\n",
            "\n",
            "           0       0.76      0.98      0.85       899\n",
            "           1       0.66      0.12      0.20       323\n",
            "\n",
            "    accuracy                           0.75      1222\n",
            "   macro avg       0.71      0.55      0.53      1222\n",
            "weighted avg       0.73      0.75      0.68      1222\n",
            "\n"
          ]
        }
      ],
      "source": [
        "from sklearn.metrics import classification_report\n",
        "classification_rep = classification_report(test_data_chunk['deberta_label'], test_pred_rf)\n",
        "print(\"Classification Report:\\n\", classification_rep)"
      ]
    },
    {
      "cell_type": "markdown",
      "metadata": {
        "id": "zy5lwFMw_CIT"
      },
      "source": [
        "Logistic Regression"
      ]
    },
    {
      "cell_type": "code",
      "execution_count": null,
      "metadata": {
        "colab": {
          "base_uri": "https://localhost:8080/"
        },
        "id": "gz5znU0P-3FP",
        "outputId": "21a5447b-0b83-4109-e7f1-aca573b5213d"
      },
      "outputs": [
        {
          "name": "stdout",
          "output_type": "stream",
          "text": [
            "Logistic Regression Validation score: 0.6736\n",
            "Logistic Regression Validation score: 0.7049\n",
            "Logistic Regression Validation score: 0.6567\n"
          ]
        },
        {
          "name": "stderr",
          "output_type": "stream",
          "text": [
            "<ipython-input-15-3ab1e6903d12>:36: SettingWithCopyWarning: \n",
            "A value is trying to be set on a copy of a slice from a DataFrame.\n",
            "Try using .loc[row_indexer,col_indexer] = value instead\n",
            "\n",
            "See the caveats in the documentation: https://pandas.pydata.org/pandas-docs/stable/user_guide/indexing.html#returning-a-view-versus-a-copy\n",
            "  test_data_chunk['Predicted_Class_LR'] = test_preds_lr\n",
            "<ipython-input-15-3ab1e6903d12>:37: SettingWithCopyWarning: \n",
            "A value is trying to be set on a copy of a slice from a DataFrame.\n",
            "Try using .loc[row_indexer,col_indexer] = value instead\n",
            "\n",
            "See the caveats in the documentation: https://pandas.pydata.org/pandas-docs/stable/user_guide/indexing.html#returning-a-view-versus-a-copy\n",
            "  test_data_chunk['Predicted_Probability_LR'] = test_probabilities_lr\n"
          ]
        }
      ],
      "source": [
        "from sklearn.linear_model import LogisticRegression\n",
        "# Define the Logistic Regression model\n",
        "lr_model = LogisticRegression(random_state=42, class_weight = class_weights)\n",
        "\n",
        "# Initialize arrays to store results\n",
        "res_vec_lr = np.zeros((3, 1))\n",
        "prv_lr = np.zeros((len(train_data_chunk), 3))\n",
        "\n",
        "# Initialize DataFrame to store probability predictions\n",
        "probabilities_df_lr = pd.DataFrame()\n",
        "\n",
        "for ii, (id0, id1) in enumerate(tscv.split(X_train_text_features_resampled)):\n",
        "    X_train_fold, X_val_fold = X_train_text_features_resampled[id0], X_train_text_features_resampled[id1]\n",
        "    y_train_fold, y_val_fold = y_train_resampled.iloc[id0], y_train_resampled.iloc[id1]\n",
        "\n",
        "    # Train Logistic Regression model\n",
        "    lr_model.fit(X_train_fold, y_train_fold)\n",
        "\n",
        "    # Make predictions on validation set for Logistic Regression\n",
        "    val_preds_lr = lr_model.predict(X_val_fold)\n",
        "    # prv_lr[:, ii] = lr_model.predict(X_train_text_features_resampled)\n",
        "    probabilities_lr = lr_model.predict_proba(X_train_text_features_resampled)[:, 1]\n",
        "    probabilities_df_lr[f'Fold_{ii + 1}'] = probabilities_lr\n",
        "    score_lr = np.round(accuracy_score(y_val_fold, val_preds_lr), 4)\n",
        "    res_vec_lr[ii] = score_lr\n",
        "    print(\"Logistic Regression Validation score: \" + str(score_lr))\n",
        "\n",
        "# Final training on the entire dataset for Logistic Regression\n",
        "lr_model.fit(X_train_text_features_resampled, y_train_resampled)\n",
        "\n",
        "# Predict on the test set only once for Logistic Regression\n",
        "test_preds_lr = lr_model.predict(X_test_text_features)\n",
        "test_probabilities_lr = lr_model.predict_proba(X_test_text_features)[:, 1]\n",
        "\n",
        "# Save predictions and probabilities to the test_data_chunk DataFrame\n",
        "test_data_chunk['Predicted_Class_LR'] = test_preds_lr\n",
        "test_data_chunk['Predicted_Probability_LR'] = test_probabilities_lr\n"
      ]
    },
    {
      "cell_type": "code",
      "execution_count": null,
      "metadata": {
        "colab": {
          "base_uri": "https://localhost:8080/"
        },
        "id": "YvgTSMk0_pC_",
        "outputId": "25ffa392-eec0-4daf-a829-24eeccdc44c7"
      },
      "outputs": [
        {
          "name": "stdout",
          "output_type": "stream",
          "text": [
            "Classification Report:\n",
            "               precision    recall  f1-score   support\n",
            "\n",
            "           0       0.86      0.70      0.77       899\n",
            "           1       0.45      0.69      0.55       323\n",
            "\n",
            "    accuracy                           0.70      1222\n",
            "   macro avg       0.66      0.70      0.66      1222\n",
            "weighted avg       0.75      0.70      0.71      1222\n",
            "\n"
          ]
        }
      ],
      "source": [
        "classification_rep_lr = classification_report(test_data_chunk['deberta_label'], test_preds_lr)\n",
        "print(\"Classification Report:\\n\", classification_rep_lr)"
      ]
    },
    {
      "cell_type": "markdown",
      "metadata": {
        "id": "8JFCte4U_y98"
      },
      "source": [
        "SVM"
      ]
    },
    {
      "cell_type": "code",
      "execution_count": null,
      "metadata": {
        "colab": {
          "base_uri": "https://localhost:8080/"
        },
        "id": "BwA4NAcU_tlk",
        "outputId": "9ef1e32f-1aa0-481a-c6b4-d070a5e55560"
      },
      "outputs": [
        {
          "name": "stdout",
          "output_type": "stream",
          "text": [
            "SVM Validation score: 0.7107\n",
            "SVM Validation score: 0.7433\n",
            "SVM Validation score: 0.7016\n"
          ]
        },
        {
          "name": "stderr",
          "output_type": "stream",
          "text": [
            "<ipython-input-17-9039327665f0>:37: SettingWithCopyWarning: \n",
            "A value is trying to be set on a copy of a slice from a DataFrame.\n",
            "Try using .loc[row_indexer,col_indexer] = value instead\n",
            "\n",
            "See the caveats in the documentation: https://pandas.pydata.org/pandas-docs/stable/user_guide/indexing.html#returning-a-view-versus-a-copy\n",
            "  test_data_chunk['Predicted_Class_SVM'] = test_preds_svm\n",
            "<ipython-input-17-9039327665f0>:38: SettingWithCopyWarning: \n",
            "A value is trying to be set on a copy of a slice from a DataFrame.\n",
            "Try using .loc[row_indexer,col_indexer] = value instead\n",
            "\n",
            "See the caveats in the documentation: https://pandas.pydata.org/pandas-docs/stable/user_guide/indexing.html#returning-a-view-versus-a-copy\n",
            "  test_data_chunk['Predicted_Probability_SVM'] = test_probabilities_svm\n"
          ]
        }
      ],
      "source": [
        "from sklearn.preprocessing import StandardScaler\n",
        "# Define the SVM model\n",
        "svm_model = SVC(probability=True, random_state=42,class_weight=class_weights)\n",
        "\n",
        "# Initialize arrays to store results\n",
        "res_vec_svm = np.zeros((3, 1))\n",
        "prv_svm = np.zeros((len(train_data_chunk), 3))\n",
        "\n",
        "# Initialize DataFrame to store probability predictions\n",
        "probabilities_df_svm = pd.DataFrame()\n",
        "\n",
        "\n",
        "for ii, (id0, id1) in enumerate(tscv.split(X_train_text_features_resampled)):\n",
        "    X_train_fold, X_val_fold = X_train_text_features_resampled[id0], X_train_text_features_resampled[id1]\n",
        "    y_train_fold, y_val_fold = y_train_resampled.iloc[id0], y_train_resampled.iloc[id1]\n",
        "\n",
        "    # Train SVM model\n",
        "    svm_model.fit(X_train_fold, y_train_fold)\n",
        "\n",
        "    # Make predictions on validation set for SVM\n",
        "    val_preds_svm = svm_model.predict(X_val_fold)\n",
        "    # prv_svm[:, ii] = svm_model.predict(X_train_text_features)\n",
        "    probabilities_svm = svm_model.predict_proba(X_train_text_features_resampled)[:, 1]\n",
        "    probabilities_df_svm[f'Fold_{ii + 1}'] = probabilities_svm\n",
        "    score_svm = np.round(accuracy_score(y_val_fold, val_preds_svm), 4)\n",
        "    res_vec_svm[ii] = score_svm\n",
        "    print(\"SVM Validation score: \" + str(score_svm))\n",
        "\n",
        "# Final training on the entire dataset for SVM\n",
        "svm_model.fit(X_train_text_features_resampled, y_train_resampled)\n",
        "\n",
        "# Predict on the test set only once for SVM\n",
        "test_preds_svm = svm_model.predict(X_test_text_features)\n",
        "test_probabilities_svm = svm_model.predict_proba(X_test_text_features)[:, 1]\n",
        "\n",
        "# Save predictions and probabilities to the test_data_chunk DataFrame\n",
        "test_data_chunk['Predicted_Class_SVM'] = test_preds_svm\n",
        "test_data_chunk['Predicted_Probability_SVM'] = test_probabilities_svm\n"
      ]
    },
    {
      "cell_type": "code",
      "execution_count": null,
      "metadata": {
        "colab": {
          "base_uri": "https://localhost:8080/"
        },
        "id": "fGOPRR5RAF58",
        "outputId": "59e60b88-9a6c-4c0a-ac10-a920192d9ab5"
      },
      "outputs": [
        {
          "name": "stdout",
          "output_type": "stream",
          "text": [
            "Classification Report:\n",
            "               precision    recall  f1-score   support\n",
            "\n",
            "           0       0.85      0.78      0.81       899\n",
            "           1       0.50      0.63      0.56       323\n",
            "\n",
            "    accuracy                           0.74      1222\n",
            "   macro avg       0.68      0.70      0.69      1222\n",
            "weighted avg       0.76      0.74      0.75      1222\n",
            "\n"
          ]
        }
      ],
      "source": [
        "classification_rep_svm = classification_report(test_data_chunk['deberta_label'], test_preds_svm)\n",
        "print(\"Classification Report:\\n\", classification_rep_svm)"
      ]
    },
    {
      "cell_type": "markdown",
      "metadata": {
        "id": "0fBvwTgJEKyz"
      },
      "source": [
        "KNN"
      ]
    },
    {
      "cell_type": "code",
      "execution_count": null,
      "metadata": {
        "colab": {
          "base_uri": "https://localhost:8080/"
        },
        "id": "oeOOVzXeDZjV",
        "outputId": "465fc025-8109-4f9a-8162-e848ff99bb67"
      },
      "outputs": [
        {
          "name": "stdout",
          "output_type": "stream",
          "text": [
            "KNN Validation score: 0.6554\n",
            "KNN Validation score: 0.6906\n",
            "KNN Validation score: 0.6847\n"
          ]
        },
        {
          "name": "stderr",
          "output_type": "stream",
          "text": [
            "<ipython-input-19-27022472c937>:41: SettingWithCopyWarning: \n",
            "A value is trying to be set on a copy of a slice from a DataFrame.\n",
            "Try using .loc[row_indexer,col_indexer] = value instead\n",
            "\n",
            "See the caveats in the documentation: https://pandas.pydata.org/pandas-docs/stable/user_guide/indexing.html#returning-a-view-versus-a-copy\n",
            "  test_data_chunk['Predicted_Class_KNN'] = test_preds_knn\n",
            "<ipython-input-19-27022472c937>:43: SettingWithCopyWarning: \n",
            "A value is trying to be set on a copy of a slice from a DataFrame.\n",
            "Try using .loc[row_indexer,col_indexer] = value instead\n",
            "\n",
            "See the caveats in the documentation: https://pandas.pydata.org/pandas-docs/stable/user_guide/indexing.html#returning-a-view-versus-a-copy\n",
            "  test_data_chunk[f'Prob_Class_{class_idx}_KNN'] = test_probabilities_knn[:, class_idx]\n",
            "<ipython-input-19-27022472c937>:43: SettingWithCopyWarning: \n",
            "A value is trying to be set on a copy of a slice from a DataFrame.\n",
            "Try using .loc[row_indexer,col_indexer] = value instead\n",
            "\n",
            "See the caveats in the documentation: https://pandas.pydata.org/pandas-docs/stable/user_guide/indexing.html#returning-a-view-versus-a-copy\n",
            "  test_data_chunk[f'Prob_Class_{class_idx}_KNN'] = test_probabilities_knn[:, class_idx]\n"
          ]
        }
      ],
      "source": [
        "# Define the KNN model\n",
        "knn_model = KNeighborsClassifier()\n",
        "\n",
        "# Initialize arrays to store results\n",
        "res_vec_knn = np.zeros((3, 1))\n",
        "prv_knn = np.zeros((len(train_data_chunk), 3))\n",
        "\n",
        "# Initialize DataFrame to store probability predictions\n",
        "probabilities_df_knn = pd.DataFrame()\n",
        "\n",
        "for ii, (id0, id1) in enumerate(tscv.split(X_train_text_features_resampled)):\n",
        "    X_train_fold, X_val_fold = X_train_text_features_resampled[id0], X_train_text_features_resampled[id1]\n",
        "    y_train_fold, y_val_fold = y_train_resampled.iloc[id0], y_train_resampled.iloc[id1]\n",
        "\n",
        "    # Train KNN model\n",
        "    knn_model.fit(X_train_fold, y_train_fold)\n",
        "\n",
        "    # Make predictions on validation set for KNN\n",
        "    val_preds_knn = knn_model.predict(X_val_fold)\n",
        "    #prv_knn[:, ii] = knn_model.predict(X_train_text_features_resampled)\n",
        "\n",
        "    # KNN doesn't provide probability estimates directly, so we'll use predict_proba for multiclass\n",
        "    probabilities_knn = knn_model.predict_proba(X_val_fold)\n",
        "\n",
        "    # Save probability predictions for the entire dataset\n",
        "    for class_idx in range(probabilities_knn.shape[1]):\n",
        "        probabilities_df_knn[f'Fold_{ii + 1}_Class_{class_idx}'] = probabilities_knn[:, class_idx]\n",
        "\n",
        "    score_knn = np.round(accuracy_score(y_val_fold, val_preds_knn), 4)\n",
        "    res_vec_knn[ii] = score_knn\n",
        "    print(\"KNN Validation score: \" + str(score_knn))\n",
        "\n",
        "# Final training on the entire dataset for KNN\n",
        "knn_model.fit(X_train_text_features_resampled, y_train_resampled)\n",
        "\n",
        "# Predict on the test set only once for KNN\n",
        "test_preds_knn = knn_model.predict(X_test_text_features)\n",
        "test_probabilities_knn = knn_model.predict_proba(X_test_text_features)\n",
        "\n",
        "# Save predictions and probabilities to the test_data_chunk DataFrame\n",
        "test_data_chunk['Predicted_Class_KNN'] = test_preds_knn\n",
        "for class_idx in range(test_probabilities_knn.shape[1]):\n",
        "    test_data_chunk[f'Prob_Class_{class_idx}_KNN'] = test_probabilities_knn[:, class_idx]\n"
      ]
    },
    {
      "cell_type": "code",
      "execution_count": null,
      "metadata": {
        "colab": {
          "base_uri": "https://localhost:8080/"
        },
        "id": "_67PRdrpEBEO",
        "outputId": "3fb30773-d410-453d-b465-2c86d39081bd"
      },
      "outputs": [
        {
          "name": "stdout",
          "output_type": "stream",
          "text": [
            "Classification Report:\n",
            "               precision    recall  f1-score   support\n",
            "\n",
            "           0       0.79      0.75      0.77       899\n",
            "           1       0.40      0.46      0.43       323\n",
            "\n",
            "    accuracy                           0.67      1222\n",
            "   macro avg       0.60      0.60      0.60      1222\n",
            "weighted avg       0.69      0.67      0.68      1222\n",
            "\n"
          ]
        }
      ],
      "source": [
        "classification_rep_knn = classification_report(test_data_chunk['deberta_label'], test_preds_knn)\n",
        "print(\"Classification Report:\\n\", classification_rep_knn)"
      ]
    },
    {
      "cell_type": "markdown",
      "metadata": {
        "id": "KuyuS8-gCJBh"
      },
      "source": [
        "Naive Bayes"
      ]
    },
    {
      "cell_type": "code",
      "execution_count": null,
      "metadata": {
        "colab": {
          "base_uri": "https://localhost:8080/"
        },
        "id": "dAxtotThAPnK",
        "outputId": "544b61fa-ee71-4321-944d-eaf51961f411"
      },
      "outputs": [
        {
          "name": "stdout",
          "output_type": "stream",
          "text": [
            "Naive Bayes Validation score: 0.7225\n",
            "Naive Bayes Validation score: 0.757\n",
            "Naive Bayes Validation score: 0.7336\n"
          ]
        },
        {
          "name": "stderr",
          "output_type": "stream",
          "text": [
            "<ipython-input-21-05586804b9b1>:37: SettingWithCopyWarning: \n",
            "A value is trying to be set on a copy of a slice from a DataFrame.\n",
            "Try using .loc[row_indexer,col_indexer] = value instead\n",
            "\n",
            "See the caveats in the documentation: https://pandas.pydata.org/pandas-docs/stable/user_guide/indexing.html#returning-a-view-versus-a-copy\n",
            "  test_data_chunk['Predicted_Class_NB'] = test_preds_nb\n",
            "<ipython-input-21-05586804b9b1>:38: SettingWithCopyWarning: \n",
            "A value is trying to be set on a copy of a slice from a DataFrame.\n",
            "Try using .loc[row_indexer,col_indexer] = value instead\n",
            "\n",
            "See the caveats in the documentation: https://pandas.pydata.org/pandas-docs/stable/user_guide/indexing.html#returning-a-view-versus-a-copy\n",
            "  test_data_chunk['Predicted_Probability_NB'] = test_probabilities_nb\n"
          ]
        }
      ],
      "source": [
        "from sklearn.naive_bayes import MultinomialNB\n",
        "\n",
        "# Define the Naive Bayes model\n",
        "nb_model = MultinomialNB()\n",
        "\n",
        "# Initialize arrays to store results\n",
        "res_vec_nb = np.zeros((3, 1))\n",
        "prv_nb = np.zeros((len(train_data_chunk), 3))\n",
        "\n",
        "# Initialize DataFrame to store probability predictions\n",
        "probabilities_df_nb = pd.DataFrame()\n",
        "\n",
        "for ii, (id0, id1) in enumerate(tscv.split(X_train_text_features_resampled)):\n",
        "    X_train_fold, X_val_fold = X_train_text_features_resampled[id0], X_train_text_features_resampled[id1]\n",
        "    y_train_fold, y_val_fold = y_train_resampled.iloc[id0], y_train_resampled.iloc[id1]\n",
        "\n",
        "    # Train Naive Bayes model\n",
        "    nb_model.fit(X_train_fold, y_train_fold)\n",
        "\n",
        "    # Make predictions on validation set for Naive Bayes\n",
        "    val_preds_nb = nb_model.predict(X_val_fold)\n",
        "    # prv_nb[:, ii] = nb_model.predict(X_train_text_features)\n",
        "    probabilities_nb = nb_model.predict_proba(X_train_text_features_resampled)[:, 1]\n",
        "    probabilities_df_nb[f'Fold_{ii + 1}'] = probabilities_nb\n",
        "    score_nb = np.round(accuracy_score(y_val_fold, val_preds_nb), 4)\n",
        "    res_vec_nb[ii] = score_nb\n",
        "    print(\"Naive Bayes Validation score: \" + str(score_nb))\n",
        "\n",
        "# Final training on the entire dataset for Naive Bayes\n",
        "nb_model.fit(X_train_text_features_resampled, y_train_resampled)\n",
        "\n",
        "# Predict on the test set only once for Naive Bayes\n",
        "test_preds_nb = nb_model.predict(X_test_text_features)\n",
        "test_probabilities_nb = nb_model.predict_proba(X_test_text_features)[:, 1]\n",
        "\n",
        "# Save predictions and probabilities to the test_data_chunk DataFrame\n",
        "test_data_chunk['Predicted_Class_NB'] = test_preds_nb\n",
        "test_data_chunk['Predicted_Probability_NB'] = test_probabilities_nb\n"
      ]
    },
    {
      "cell_type": "code",
      "execution_count": null,
      "metadata": {
        "colab": {
          "base_uri": "https://localhost:8080/"
        },
        "id": "37rDHMKEA9AF",
        "outputId": "56ec02a9-e50a-4fc9-ab79-103bdffff0b0"
      },
      "outputs": [
        {
          "name": "stdout",
          "output_type": "stream",
          "text": [
            "Classification Report:\n",
            "               precision    recall  f1-score   support\n",
            "\n",
            "           0       0.78      0.90      0.84       899\n",
            "           1       0.52      0.29      0.38       323\n",
            "\n",
            "    accuracy                           0.74      1222\n",
            "   macro avg       0.65      0.60      0.61      1222\n",
            "weighted avg       0.71      0.74      0.71      1222\n",
            "\n"
          ]
        }
      ],
      "source": [
        "classification_rep_nb = classification_report(test_data_chunk['deberta_label'], test_preds_nb)\n",
        "print(\"Classification Report:\\n\", classification_rep_nb)"
      ]
    },
    {
      "cell_type": "markdown",
      "metadata": {
        "id": "rUuR11lQCG4n"
      },
      "source": [
        "Decision Tree"
      ]
    },
    {
      "cell_type": "code",
      "execution_count": null,
      "metadata": {
        "colab": {
          "base_uri": "https://localhost:8080/"
        },
        "id": "R7nq0gGWBC2W",
        "outputId": "7f047de7-670a-4ece-bf64-ada4639c2143"
      },
      "outputs": [
        {
          "name": "stdout",
          "output_type": "stream",
          "text": [
            "Decision Tree Validation score: 0.6436\n",
            "Decision Tree Validation score: 0.6625\n",
            "Decision Tree Validation score: 0.645\n"
          ]
        },
        {
          "name": "stderr",
          "output_type": "stream",
          "text": [
            "<ipython-input-23-11258ddea4a1>:41: SettingWithCopyWarning: \n",
            "A value is trying to be set on a copy of a slice from a DataFrame.\n",
            "Try using .loc[row_indexer,col_indexer] = value instead\n",
            "\n",
            "See the caveats in the documentation: https://pandas.pydata.org/pandas-docs/stable/user_guide/indexing.html#returning-a-view-versus-a-copy\n",
            "  test_data_chunk['Predicted_Class_DT'] = test_preds_dt\n",
            "<ipython-input-23-11258ddea4a1>:42: SettingWithCopyWarning: \n",
            "A value is trying to be set on a copy of a slice from a DataFrame.\n",
            "Try using .loc[row_indexer,col_indexer] = value instead\n",
            "\n",
            "See the caveats in the documentation: https://pandas.pydata.org/pandas-docs/stable/user_guide/indexing.html#returning-a-view-versus-a-copy\n",
            "  test_data_chunk['Prob_Class_0_DT'] = test_probabilities_dt[:, 0]\n"
          ]
        }
      ],
      "source": [
        "dt_model = DecisionTreeClassifier(random_state=42, class_weight=class_weights)\n",
        "\n",
        "# Initialize arrays to store results\n",
        "res_vec_dt = np.zeros((3, 1))\n",
        "prv_dt = np.zeros((len(train_data_chunk), 3))\n",
        "\n",
        "# Initialize DataFrame to store probability predictions\n",
        "probabilities_df_dt = pd.DataFrame()\n",
        "\n",
        "for ii, (id0, id1) in enumerate(tscv.split(X_train_text_features_resampled)):\n",
        "    X_train_fold, X_val_fold = X_train_text_features_resampled[id0], X_train_text_features_resampled[id1]\n",
        "    y_train_fold, y_val_fold = y_train_resampled.iloc[id0], y_train_resampled.iloc[id1]\n",
        "\n",
        "    # Train Decision Tree model\n",
        "    dt_model.fit(X_train_fold, y_train_fold)\n",
        "\n",
        "    # Make predictions on validation set for Decision Tree\n",
        "    val_preds_dt = dt_model.predict(X_val_fold)\n",
        "    #prv_dt[:, ii] = dt_model.predict(X_train_text_features_resampled)\n",
        "\n",
        "    # Decision Trees don't provide probability estimates directly, so we'll use predict_proba\n",
        "    val_probs_dt = dt_model.predict_proba(X_val_fold)\n",
        "\n",
        "    # Save probability predictions for the entire dataset\n",
        "    probabilities_df_dt[f'Fold_{ii + 1}_Class_0'] = val_probs_dt[:, 0]\n",
        "    # probabilities_df_dt[f'Fold_{ii + 1}_Class_1'] = val_probs_dt[:, 1]\n",
        "    # probabilities_df_dt[f'Fold_{ii + 1}_Class_2'] = val_probs_dt[:, 2]\n",
        "\n",
        "    score_dt = np.round(accuracy_score(y_val_fold, val_preds_dt), 4)\n",
        "    res_vec_dt[ii] = score_dt\n",
        "    print(\"Decision Tree Validation score: \" + str(score_dt))\n",
        "\n",
        "# Final training on the entire dataset for Decision Tree\n",
        "dt_model.fit(X_train_text_features_resampled, y_train_resampled)\n",
        "\n",
        "# Predict on the test set only once for Decision Tree\n",
        "test_preds_dt = dt_model.predict(X_test_text_features)\n",
        "test_probabilities_dt = dt_model.predict_proba(X_test_text_features)\n",
        "\n",
        "# Save predictions and probabilities to the test_data_chunk DataFrame\n",
        "test_data_chunk['Predicted_Class_DT'] = test_preds_dt\n",
        "test_data_chunk['Prob_Class_0_DT'] = test_probabilities_dt[:, 0]\n",
        "# test_data_chunk['Prob_Class_1_DT'] = test_probabilities_dt[:, 1]\n",
        "# test_data_chunk['Prob_Class_2_DT'] = test_probabilities_dt[:, 2]\n"
      ]
    },
    {
      "cell_type": "code",
      "execution_count": null,
      "metadata": {
        "colab": {
          "base_uri": "https://localhost:8080/"
        },
        "id": "KrZyy2DzCASw",
        "outputId": "0e2a01df-7ccc-4d13-c790-6ade31dd0cf4"
      },
      "outputs": [
        {
          "name": "stdout",
          "output_type": "stream",
          "text": [
            "Classification Report:\n",
            "               precision    recall  f1-score   support\n",
            "\n",
            "           0       0.78      0.77      0.77       899\n",
            "           1       0.38      0.39      0.38       323\n",
            "\n",
            "    accuracy                           0.67      1222\n",
            "   macro avg       0.58      0.58      0.58      1222\n",
            "weighted avg       0.67      0.67      0.67      1222\n",
            "\n"
          ]
        }
      ],
      "source": [
        "classification_rep_dt = classification_report(test_data_chunk['deberta_label'], test_preds_dt)\n",
        "print(\"Classification Report:\\n\", classification_rep_dt)"
      ]
    },
    {
      "cell_type": "code",
      "execution_count": null,
      "metadata": {
        "colab": {
          "base_uri": "https://localhost:8080/"
        },
        "id": "KyDlF6-CmjaU",
        "outputId": "20663625-4898-4e7f-a1ee-df5b440eb777"
      },
      "outputs": [
        {
          "data": {
            "text/plain": [
              "0       0\n",
              "1       0\n",
              "2       0\n",
              "3       1\n",
              "4       0\n",
              "       ..\n",
              "6246    0\n",
              "6275    0\n",
              "6276    0\n",
              "6277    0\n",
              "6278    0\n",
              "Name: deberta_label, Length: 6142, dtype: int64"
            ]
          },
          "execution_count": 25,
          "metadata": {},
          "output_type": "execute_result"
        }
      ],
      "source": [
        "y_train_resampled"
      ]
    },
    {
      "cell_type": "code",
      "execution_count": null,
      "metadata": {
        "colab": {
          "background_save": true,
          "base_uri": "https://localhost:8080/"
        },
        "id": "m3yTmGozCFu8",
        "outputId": "2e6e4c6c-9a5d-4c6b-9a54-983a5587f36a"
      },
      "outputs": [
        {
          "name": "stderr",
          "output_type": "stream",
          "text": [
            "/usr/local/lib/python3.10/dist-packages/xgboost/core.py:160: UserWarning: [11:59:35] WARNING: /workspace/src/learner.cc:742: \n",
            "Parameters: { \"sample_weight\" } are not used.\n",
            "\n",
            "  warnings.warn(smsg, UserWarning)\n"
          ]
        },
        {
          "name": "stdout",
          "output_type": "stream",
          "text": [
            "XGBoost Validation score: 0.7238\n"
          ]
        },
        {
          "name": "stderr",
          "output_type": "stream",
          "text": [
            "/usr/local/lib/python3.10/dist-packages/xgboost/core.py:160: UserWarning: [11:59:41] WARNING: /workspace/src/learner.cc:742: \n",
            "Parameters: { \"sample_weight\" } are not used.\n",
            "\n",
            "  warnings.warn(smsg, UserWarning)\n"
          ]
        },
        {
          "name": "stdout",
          "output_type": "stream",
          "text": [
            "XGBoost Validation score: 0.7459\n"
          ]
        },
        {
          "name": "stderr",
          "output_type": "stream",
          "text": [
            "/usr/local/lib/python3.10/dist-packages/xgboost/core.py:160: UserWarning: [11:59:54] WARNING: /workspace/src/learner.cc:742: \n",
            "Parameters: { \"sample_weight\" } are not used.\n",
            "\n",
            "  warnings.warn(smsg, UserWarning)\n"
          ]
        },
        {
          "name": "stdout",
          "output_type": "stream",
          "text": [
            "XGBoost Validation score: 0.7225\n"
          ]
        },
        {
          "name": "stderr",
          "output_type": "stream",
          "text": [
            "/usr/local/lib/python3.10/dist-packages/xgboost/core.py:160: UserWarning: [12:00:11] WARNING: /workspace/src/learner.cc:742: \n",
            "Parameters: { \"sample_weight\" } are not used.\n",
            "\n",
            "  warnings.warn(smsg, UserWarning)\n"
          ]
        }
      ],
      "source": [
        "from xgboost import XGBClassifier\n",
        "# Define the XGBoost model\n",
        "xgb_model = XGBClassifier(random_state=42,sample_weight=class_weights)\n",
        "# Initialize arrays to store results\n",
        "res_vec_xgb = np.zeros((3, 1))\n",
        "prv_xgb = np.zeros((len(train_data_chunk), 3))\n",
        "\n",
        "# Initialize DataFrame to store probability predictions\n",
        "probabilities_df_xgb = pd.DataFrame()\n",
        "\n",
        "for ii, (id0, id1) in enumerate(tscv.split(X_train_text_features_resampled)):\n",
        "    X_train_fold, X_val_fold = X_train_text_features_resampled[id0], X_train_text_features_resampled[id1]\n",
        "    y_train_fold, y_val_fold = y_train_resampled.iloc[id0], y_train_resampled.iloc[id1]\n",
        "\n",
        "    # Train XGBoost model\n",
        "    xgb_model.fit(X_train_fold, y_train_fold)\n",
        "\n",
        "    # Make predictions on validation set\n",
        "    val_preds_xgb = xgb_model.predict(X_val_fold)\n",
        "    #prv_xgb[:, ii] = xgb_model.predict(X_train_text_features_resampled)\n",
        "\n",
        "    # Save probability predictions for the entire dataset\n",
        "    probabilities_xgb = xgb_model.predict_proba(X_train_text_features_resampled)[:, 1]\n",
        "    probabilities_df_xgb[f'Fold_{ii + 1}'] = probabilities_xgb\n",
        "\n",
        "    # Validation score\n",
        "    score_xgb = np.round(accuracy_score(y_val_fold, val_preds_xgb), 4)\n",
        "    res_vec_xgb[ii] = score_xgb\n",
        "    print(\"XGBoost Validation score: \" + str(score_xgb))\n",
        "\n",
        "# Final training on the entire dataset for XGBoost\n",
        "xgb_model.fit(X_train_text_features_resampled, y_train_resampled)\n",
        "\n",
        "# Predict on the test set only once for XGBoost\n",
        "test_preds_xgb = xgb_model.predict(X_test_text_features)\n",
        "test_probabilities_xgb = xgb_model.predict_proba(X_test_text_features)[:, 1]\n",
        "\n",
        "# Save predictions and probabilities to the test_data_chunk DataFrame\n",
        "test_data_chunk['Predicted_Class_XGB'] = test_preds_xgb\n",
        "test_data_chunk['Predicted_Probability_XGB'] = test_probabilities_xgb\n"
      ]
    },
    {
      "cell_type": "code",
      "execution_count": null,
      "metadata": {
        "colab": {
          "background_save": true
        },
        "id": "9ZACr-piEgsm"
      },
      "outputs": [],
      "source": [
        "classification_rep_xgb = classification_report(test_data_chunk['deberta_label'], test_preds_xgb)\n",
        "print(\"Classification Report:\\n\", classification_rep_xgb)"
      ]
    },
    {
      "cell_type": "code",
      "execution_count": null,
      "metadata": {
        "colab": {
          "background_save": true
        },
        "id": "Mh-_fm7hclP8"
      },
      "outputs": [],
      "source": [
        "# Get feature names from the TfidfVectorizer\n",
        "feature_names = text_vectorizer.get_feature_names_out()\n",
        "\n",
        "# Zip feature names and importance scores, then sort by importance in descending order\n",
        "feature_importance_tuples = sorted(zip(feature_names, xgb_model.feature_importances_), key=lambda x: x[1], reverse=True)\n",
        "\n",
        "# Print the top 10 features\n",
        "for feature, importance in feature_importance_tuples[:10]:\n",
        "    print('{}: {}'.format(feature, importance))"
      ]
    },
    {
      "cell_type": "code",
      "execution_count": null,
      "metadata": {
        "colab": {
          "background_save": true
        },
        "id": "kuDEp2B3dq-v"
      },
      "outputs": [],
      "source": [
        "import matplotlib.pyplot as plt\n",
        "import numpy as np\n",
        "\n",
        "\n",
        "# Get feature names from the TfidfVectorizer (bigrams)\n",
        "feature_names = text_vectorizer.get_feature_names_out()\n",
        "\n",
        "# Zip feature names and importance scores, then sort by importance in descending order\n",
        "feature_importance_tuples = sorted(zip(feature_names, xgb_model.feature_importances_), key=lambda x: x[1], reverse=True)\n",
        "\n",
        "# Extract top 10 features and their importance scores\n",
        "top_features, top_importances = zip(*feature_importance_tuples[:10])\n",
        "\n",
        "# Reverse the order to have descending bars\n",
        "top_features = top_features[::-1]\n",
        "top_importances = top_importances[::-1]\n",
        "\n",
        "# Create a range of colors from light to dark\n",
        "colors = plt.cm.Blues(np.linspace(0.2, 1, len(top_features)))\n",
        "\n",
        "# Plot the horizontal bar graph with progressively lighter colors\n",
        "plt.figure(figsize=(10, 6))\n",
        "plt.barh(top_features, top_importances, color=colors)\n",
        "plt.xlabel('Importance Score')\n",
        "plt.title('Top 10 Bigrams in XGBoost Model')\n",
        "plt.show()\n"
      ]
    },
    {
      "cell_type": "code",
      "execution_count": null,
      "metadata": {
        "colab": {
          "background_save": true
        },
        "id": "XLsdAuCayjVP"
      },
      "outputs": [],
      "source": [
        "# print(df[df['new_content'] == 'economic fundamental slowly slipping high inflation volatile manufacturing service number threatening growth' ].index.values)"
      ]
    },
    {
      "cell_type": "code",
      "execution_count": null,
      "metadata": {
        "colab": {
          "background_save": true
        },
        "id": "vMShxRoksyZ7"
      },
      "outputs": [],
      "source": [
        "from lime import lime_text\n",
        "from lime.lime_text import LimeTextExplainer\n",
        "from lime.lime_text import LimeTextExplainer\n",
        "from sklearn.pipeline import make_pipeline\n",
        "\n",
        "idx = df.index[233]\n",
        "c = make_pipeline(text_vectorizer, rf_model)\n",
        "class_names = ['positive', 'negative', 'neutral']\n",
        "explainer = LimeTextExplainer(class_names=class_names)\n",
        "exp = explainer.explain_instance(\n",
        "    df[\"new_content\"][idx],\n",
        "    c.predict_proba,\n",
        "    num_features=10\n",
        ")\n",
        "explanation_list = exp.as_list()\n",
        "print(\"Text:\")\n",
        "print(df[\"new_content\"][idx])\n",
        "print(\"\\nExplanation:\")\n",
        "for word, weight in explanation_list:\n",
        "    print(f\"{word}: {weight}\")\n",
        "print(\"Probability (Positive) =\", c.predict_proba([df[\"new_content\"][idx]])[0, 0])\n",
        "print(\"Probability (Negative) =\", c.predict_proba([df[\"new_content\"][idx]])[0, 1])\n",
        "\n",
        "print(\"True Class is:\", class_names[df[\"deberta_label\"][idx]])\n",
        "\n"
      ]
    },
    {
      "cell_type": "code",
      "execution_count": null,
      "metadata": {
        "colab": {
          "background_save": true
        },
        "id": "jmZ5CRfTszU_"
      },
      "outputs": [],
      "source": [
        "exp.show_in_notebook(text=train_data_chunk[\"new_content\"][idx], labels=(1,))"
      ]
    },
    {
      "cell_type": "code",
      "execution_count": null,
      "metadata": {
        "colab": {
          "background_save": true
        },
        "id": "nAhrPHLC4yRt"
      },
      "outputs": [],
      "source": [
        "models_list = [rf_model, lr_model, svm_model, knn_model, nb_model, xgb_model]"
      ]
    },
    {
      "cell_type": "code",
      "execution_count": null,
      "metadata": {
        "colab": {
          "background_save": true
        },
        "id": "4ZTgz4ONqwME"
      },
      "outputs": [],
      "source": [
        "models_list = [rf_model, lr_model, svm_model, knn_model, nb_model, xgb_model]\n",
        "results_df = test_data_chunk.copy()\n",
        "\n",
        "# Iterate through each model\n",
        "for model in models_list:\n",
        "    model_name = type(model).__name__  # Get the name of the model\n",
        "    # Predict probabilities for each class\n",
        "    y_proba = model.predict_proba(X_test_text_features)\n",
        "\n",
        "    # Store the probabilities in a new column with the model's name\n",
        "    for i, class_name in enumerate(model.classes_):\n",
        "        results_df[f'{model_name}_{class_name}_Probability'] = y_proba[:, i]\n"
      ]
    },
    {
      "cell_type": "code",
      "execution_count": null,
      "metadata": {
        "colab": {
          "background_save": true
        },
        "id": "QCx9ObGQo8dj",
        "outputId": "adf267e8-2cc1-40bc-f443-d22bb590e6d7"
      },
      "outputs": [
        {
          "data": {
            "text/plain": [
              "Index(['Headline', 'Summary', 'Content', 'Category', 'Date_Time', 'type_cat',\n",
              "       'Date', 'target', 'assigned_topic', 'topic_name', 'new_content',\n",
              "       'new_summary', 'new_headline', 'Combined_Text', 'positive_probability',\n",
              "       'neutral_probability', 'negative_probability', 'pos_prob', 'neg_prob',\n",
              "       'roberta_label', 'positive_probability_r', 'neutral_probability_r',\n",
              "       'negative_probability_r', 'pos_prob_r', 'neg_prob_r', 'bert_label',\n",
              "       'positive_probability_d', 'neutral_probability_d',\n",
              "       'negative_probability_d', 'pos_prob_d', 'neg_prob_d', 'deberta_label',\n",
              "       'finvader', 'finvader_label', 'text_id',\n",
              "       'Predicted_Probability_Class_0', 'Predicted_Probability_Class_1',\n",
              "       'Predicted_Class', 'Predicted_Class_LR', 'Predicted_Probability_LR',\n",
              "       'Predicted_Class_SVM', 'Predicted_Probability_SVM',\n",
              "       'Predicted_Class_KNN', 'Prob_Class_0_KNN', 'Prob_Class_1_KNN',\n",
              "       'Predicted_Class_NB', 'Predicted_Probability_NB', 'Predicted_Class_DT',\n",
              "       'Prob_Class_0_DT', 'Predicted_Class_XGB', 'Predicted_Probability_XGB',\n",
              "       'RandomForestClassifier_0_Probability',\n",
              "       'RandomForestClassifier_1_Probability',\n",
              "       'LogisticRegression_0_Probability', 'LogisticRegression_1_Probability',\n",
              "       'SVC_0_Probability', 'SVC_1_Probability',\n",
              "       'KNeighborsClassifier_0_Probability',\n",
              "       'KNeighborsClassifier_1_Probability', 'MultinomialNB_0_Probability',\n",
              "       'MultinomialNB_1_Probability', 'XGBClassifier_0_Probability',\n",
              "       'XGBClassifier_1_Probability'],\n",
              "      dtype='object')"
            ]
          },
          "execution_count": 35,
          "metadata": {},
          "output_type": "execute_result"
        }
      ],
      "source": [
        "results_df.columns"
      ]
    },
    {
      "cell_type": "code",
      "execution_count": null,
      "metadata": {
        "colab": {
          "background_save": true
        },
        "id": "UV8sCxNobTZA"
      },
      "outputs": [],
      "source": [
        "results_df['Date'] = pd.to_datetime(results_df['Date'])\n",
        "results_df.set_index('Date', inplace=True)\n",
        "df_monthly = results_df[['pos_prob_d','neg_prob_d','XGBClassifier_0_Probability','XGBClassifier_1_Probability','LogisticRegression_1_Probability','RandomForestClassifier_1_Probability','SVC_1_Probability']].resample('QS').mean()\n",
        "df_monthly.reset_index(inplace = True)"
      ]
    },
    {
      "cell_type": "code",
      "execution_count": null,
      "metadata": {
        "colab": {
          "background_save": true
        },
        "id": "DatsAF_MN69p",
        "outputId": "e1423374-66c8-4022-e590-ec1897d05ca4"
      },
      "outputs": [
        {
          "data": {
            "text/html": [
              "\n",
              "  <div id=\"df-219c743d-b1c4-4211-98e0-ffd9a7280027\" class=\"colab-df-container\">\n",
              "    <div>\n",
              "<style scoped>\n",
              "    .dataframe tbody tr th:only-of-type {\n",
              "        vertical-align: middle;\n",
              "    }\n",
              "\n",
              "    .dataframe tbody tr th {\n",
              "        vertical-align: top;\n",
              "    }\n",
              "\n",
              "    .dataframe thead th {\n",
              "        text-align: right;\n",
              "    }\n",
              "</style>\n",
              "<table border=\"1\" class=\"dataframe\">\n",
              "  <thead>\n",
              "    <tr style=\"text-align: right;\">\n",
              "      <th></th>\n",
              "      <th>Date</th>\n",
              "      <th>pos_prob_d</th>\n",
              "      <th>neg_prob_d</th>\n",
              "      <th>XGBClassifier_0_Probability</th>\n",
              "      <th>XGBClassifier_1_Probability</th>\n",
              "      <th>LogisticRegression_1_Probability</th>\n",
              "      <th>RandomForestClassifier_1_Probability</th>\n",
              "      <th>SVC_1_Probability</th>\n",
              "    </tr>\n",
              "  </thead>\n",
              "  <tbody>\n",
              "    <tr>\n",
              "      <th>0</th>\n",
              "      <td>2020-07-01</td>\n",
              "      <td>0.407570</td>\n",
              "      <td>0.592430</td>\n",
              "      <td>0.716427</td>\n",
              "      <td>0.283573</td>\n",
              "      <td>0.506408</td>\n",
              "      <td>0.294355</td>\n",
              "      <td>0.326219</td>\n",
              "    </tr>\n",
              "    <tr>\n",
              "      <th>1</th>\n",
              "      <td>2020-10-01</td>\n",
              "      <td>0.368149</td>\n",
              "      <td>0.631851</td>\n",
              "      <td>0.767560</td>\n",
              "      <td>0.232439</td>\n",
              "      <td>0.440222</td>\n",
              "      <td>0.274691</td>\n",
              "      <td>0.280308</td>\n",
              "    </tr>\n",
              "    <tr>\n",
              "      <th>2</th>\n",
              "      <td>2021-01-01</td>\n",
              "      <td>0.319994</td>\n",
              "      <td>0.680006</td>\n",
              "      <td>0.804800</td>\n",
              "      <td>0.195200</td>\n",
              "      <td>0.400936</td>\n",
              "      <td>0.246853</td>\n",
              "      <td>0.231763</td>\n",
              "    </tr>\n",
              "    <tr>\n",
              "      <th>3</th>\n",
              "      <td>2021-04-01</td>\n",
              "      <td>0.300940</td>\n",
              "      <td>0.699060</td>\n",
              "      <td>0.746902</td>\n",
              "      <td>0.253098</td>\n",
              "      <td>0.438317</td>\n",
              "      <td>0.280901</td>\n",
              "      <td>0.267304</td>\n",
              "    </tr>\n",
              "    <tr>\n",
              "      <th>4</th>\n",
              "      <td>2021-07-01</td>\n",
              "      <td>0.300732</td>\n",
              "      <td>0.699268</td>\n",
              "      <td>0.799000</td>\n",
              "      <td>0.201000</td>\n",
              "      <td>0.409464</td>\n",
              "      <td>0.268396</td>\n",
              "      <td>0.241570</td>\n",
              "    </tr>\n",
              "  </tbody>\n",
              "</table>\n",
              "</div>\n",
              "    <div class=\"colab-df-buttons\">\n",
              "\n",
              "  <div class=\"colab-df-container\">\n",
              "    <button class=\"colab-df-convert\" onclick=\"convertToInteractive('df-219c743d-b1c4-4211-98e0-ffd9a7280027')\"\n",
              "            title=\"Convert this dataframe to an interactive table.\"\n",
              "            style=\"display:none;\">\n",
              "\n",
              "  <svg xmlns=\"http://www.w3.org/2000/svg\" height=\"24px\" viewBox=\"0 -960 960 960\">\n",
              "    <path d=\"M120-120v-720h720v720H120Zm60-500h600v-160H180v160Zm220 220h160v-160H400v160Zm0 220h160v-160H400v160ZM180-400h160v-160H180v160Zm440 0h160v-160H620v160ZM180-180h160v-160H180v160Zm440 0h160v-160H620v160Z\"/>\n",
              "  </svg>\n",
              "    </button>\n",
              "\n",
              "  <style>\n",
              "    .colab-df-container {\n",
              "      display:flex;\n",
              "      gap: 12px;\n",
              "    }\n",
              "\n",
              "    .colab-df-convert {\n",
              "      background-color: #E8F0FE;\n",
              "      border: none;\n",
              "      border-radius: 50%;\n",
              "      cursor: pointer;\n",
              "      display: none;\n",
              "      fill: #1967D2;\n",
              "      height: 32px;\n",
              "      padding: 0 0 0 0;\n",
              "      width: 32px;\n",
              "    }\n",
              "\n",
              "    .colab-df-convert:hover {\n",
              "      background-color: #E2EBFA;\n",
              "      box-shadow: 0px 1px 2px rgba(60, 64, 67, 0.3), 0px 1px 3px 1px rgba(60, 64, 67, 0.15);\n",
              "      fill: #174EA6;\n",
              "    }\n",
              "\n",
              "    .colab-df-buttons div {\n",
              "      margin-bottom: 4px;\n",
              "    }\n",
              "\n",
              "    [theme=dark] .colab-df-convert {\n",
              "      background-color: #3B4455;\n",
              "      fill: #D2E3FC;\n",
              "    }\n",
              "\n",
              "    [theme=dark] .colab-df-convert:hover {\n",
              "      background-color: #434B5C;\n",
              "      box-shadow: 0px 1px 3px 1px rgba(0, 0, 0, 0.15);\n",
              "      filter: drop-shadow(0px 1px 2px rgba(0, 0, 0, 0.3));\n",
              "      fill: #FFFFFF;\n",
              "    }\n",
              "  </style>\n",
              "\n",
              "    <script>\n",
              "      const buttonEl =\n",
              "        document.querySelector('#df-219c743d-b1c4-4211-98e0-ffd9a7280027 button.colab-df-convert');\n",
              "      buttonEl.style.display =\n",
              "        google.colab.kernel.accessAllowed ? 'block' : 'none';\n",
              "\n",
              "      async function convertToInteractive(key) {\n",
              "        const element = document.querySelector('#df-219c743d-b1c4-4211-98e0-ffd9a7280027');\n",
              "        const dataTable =\n",
              "          await google.colab.kernel.invokeFunction('convertToInteractive',\n",
              "                                                    [key], {});\n",
              "        if (!dataTable) return;\n",
              "\n",
              "        const docLinkHtml = 'Like what you see? Visit the ' +\n",
              "          '<a target=\"_blank\" href=https://colab.research.google.com/notebooks/data_table.ipynb>data table notebook</a>'\n",
              "          + ' to learn more about interactive tables.';\n",
              "        element.innerHTML = '';\n",
              "        dataTable['output_type'] = 'display_data';\n",
              "        await google.colab.output.renderOutput(dataTable, element);\n",
              "        const docLink = document.createElement('div');\n",
              "        docLink.innerHTML = docLinkHtml;\n",
              "        element.appendChild(docLink);\n",
              "      }\n",
              "    </script>\n",
              "  </div>\n",
              "\n",
              "\n",
              "<div id=\"df-4a41b02c-66ed-45fa-85aa-33a08613c765\">\n",
              "  <button class=\"colab-df-quickchart\" onclick=\"quickchart('df-4a41b02c-66ed-45fa-85aa-33a08613c765')\"\n",
              "            title=\"Suggest charts\"\n",
              "            style=\"display:none;\">\n",
              "\n",
              "<svg xmlns=\"http://www.w3.org/2000/svg\" height=\"24px\"viewBox=\"0 0 24 24\"\n",
              "     width=\"24px\">\n",
              "    <g>\n",
              "        <path d=\"M19 3H5c-1.1 0-2 .9-2 2v14c0 1.1.9 2 2 2h14c1.1 0 2-.9 2-2V5c0-1.1-.9-2-2-2zM9 17H7v-7h2v7zm4 0h-2V7h2v10zm4 0h-2v-4h2v4z\"/>\n",
              "    </g>\n",
              "</svg>\n",
              "  </button>\n",
              "\n",
              "<style>\n",
              "  .colab-df-quickchart {\n",
              "      --bg-color: #E8F0FE;\n",
              "      --fill-color: #1967D2;\n",
              "      --hover-bg-color: #E2EBFA;\n",
              "      --hover-fill-color: #174EA6;\n",
              "      --disabled-fill-color: #AAA;\n",
              "      --disabled-bg-color: #DDD;\n",
              "  }\n",
              "\n",
              "  [theme=dark] .colab-df-quickchart {\n",
              "      --bg-color: #3B4455;\n",
              "      --fill-color: #D2E3FC;\n",
              "      --hover-bg-color: #434B5C;\n",
              "      --hover-fill-color: #FFFFFF;\n",
              "      --disabled-bg-color: #3B4455;\n",
              "      --disabled-fill-color: #666;\n",
              "  }\n",
              "\n",
              "  .colab-df-quickchart {\n",
              "    background-color: var(--bg-color);\n",
              "    border: none;\n",
              "    border-radius: 50%;\n",
              "    cursor: pointer;\n",
              "    display: none;\n",
              "    fill: var(--fill-color);\n",
              "    height: 32px;\n",
              "    padding: 0;\n",
              "    width: 32px;\n",
              "  }\n",
              "\n",
              "  .colab-df-quickchart:hover {\n",
              "    background-color: var(--hover-bg-color);\n",
              "    box-shadow: 0 1px 2px rgba(60, 64, 67, 0.3), 0 1px 3px 1px rgba(60, 64, 67, 0.15);\n",
              "    fill: var(--button-hover-fill-color);\n",
              "  }\n",
              "\n",
              "  .colab-df-quickchart-complete:disabled,\n",
              "  .colab-df-quickchart-complete:disabled:hover {\n",
              "    background-color: var(--disabled-bg-color);\n",
              "    fill: var(--disabled-fill-color);\n",
              "    box-shadow: none;\n",
              "  }\n",
              "\n",
              "  .colab-df-spinner {\n",
              "    border: 2px solid var(--fill-color);\n",
              "    border-color: transparent;\n",
              "    border-bottom-color: var(--fill-color);\n",
              "    animation:\n",
              "      spin 1s steps(1) infinite;\n",
              "  }\n",
              "\n",
              "  @keyframes spin {\n",
              "    0% {\n",
              "      border-color: transparent;\n",
              "      border-bottom-color: var(--fill-color);\n",
              "      border-left-color: var(--fill-color);\n",
              "    }\n",
              "    20% {\n",
              "      border-color: transparent;\n",
              "      border-left-color: var(--fill-color);\n",
              "      border-top-color: var(--fill-color);\n",
              "    }\n",
              "    30% {\n",
              "      border-color: transparent;\n",
              "      border-left-color: var(--fill-color);\n",
              "      border-top-color: var(--fill-color);\n",
              "      border-right-color: var(--fill-color);\n",
              "    }\n",
              "    40% {\n",
              "      border-color: transparent;\n",
              "      border-right-color: var(--fill-color);\n",
              "      border-top-color: var(--fill-color);\n",
              "    }\n",
              "    60% {\n",
              "      border-color: transparent;\n",
              "      border-right-color: var(--fill-color);\n",
              "    }\n",
              "    80% {\n",
              "      border-color: transparent;\n",
              "      border-right-color: var(--fill-color);\n",
              "      border-bottom-color: var(--fill-color);\n",
              "    }\n",
              "    90% {\n",
              "      border-color: transparent;\n",
              "      border-bottom-color: var(--fill-color);\n",
              "    }\n",
              "  }\n",
              "</style>\n",
              "\n",
              "  <script>\n",
              "    async function quickchart(key) {\n",
              "      const quickchartButtonEl =\n",
              "        document.querySelector('#' + key + ' button');\n",
              "      quickchartButtonEl.disabled = true;  // To prevent multiple clicks.\n",
              "      quickchartButtonEl.classList.add('colab-df-spinner');\n",
              "      try {\n",
              "        const charts = await google.colab.kernel.invokeFunction(\n",
              "            'suggestCharts', [key], {});\n",
              "      } catch (error) {\n",
              "        console.error('Error during call to suggestCharts:', error);\n",
              "      }\n",
              "      quickchartButtonEl.classList.remove('colab-df-spinner');\n",
              "      quickchartButtonEl.classList.add('colab-df-quickchart-complete');\n",
              "    }\n",
              "    (() => {\n",
              "      let quickchartButtonEl =\n",
              "        document.querySelector('#df-4a41b02c-66ed-45fa-85aa-33a08613c765 button');\n",
              "      quickchartButtonEl.style.display =\n",
              "        google.colab.kernel.accessAllowed ? 'block' : 'none';\n",
              "    })();\n",
              "  </script>\n",
              "</div>\n",
              "\n",
              "    </div>\n",
              "  </div>\n"
            ],
            "text/plain": [
              "        Date  pos_prob_d  neg_prob_d  XGBClassifier_0_Probability  \\\n",
              "0 2020-07-01    0.407570    0.592430                     0.716427   \n",
              "1 2020-10-01    0.368149    0.631851                     0.767560   \n",
              "2 2021-01-01    0.319994    0.680006                     0.804800   \n",
              "3 2021-04-01    0.300940    0.699060                     0.746902   \n",
              "4 2021-07-01    0.300732    0.699268                     0.799000   \n",
              "\n",
              "   XGBClassifier_1_Probability  LogisticRegression_1_Probability  \\\n",
              "0                     0.283573                          0.506408   \n",
              "1                     0.232439                          0.440222   \n",
              "2                     0.195200                          0.400936   \n",
              "3                     0.253098                          0.438317   \n",
              "4                     0.201000                          0.409464   \n",
              "\n",
              "   RandomForestClassifier_1_Probability  SVC_1_Probability  \n",
              "0                              0.294355           0.326219  \n",
              "1                              0.274691           0.280308  \n",
              "2                              0.246853           0.231763  \n",
              "3                              0.280901           0.267304  \n",
              "4                              0.268396           0.241570  "
            ]
          },
          "execution_count": 37,
          "metadata": {},
          "output_type": "execute_result"
        }
      ],
      "source": [
        "df_monthly.head()"
      ]
    },
    {
      "cell_type": "code",
      "execution_count": null,
      "metadata": {
        "colab": {
          "background_save": true
        },
        "id": "XCeXnMOsb9Jr"
      },
      "outputs": [],
      "source": [
        "df_monthly.set_index('Date', inplace=True)\n",
        "window_size = 3  # You can adjust the window size as needed\n",
        "df_monthly_smoothed = df_monthly.rolling(window=window_size).mean()\n",
        "# Drop rows with NaN values (due to the rolling mean)\n",
        "df_monthly_smoothed.dropna(inplace=True)\n",
        "\n",
        "# Reset the index for plotting\n",
        "df_monthly_smoothed.reset_index(inplace=True)"
      ]
    },
    {
      "cell_type": "code",
      "execution_count": null,
      "metadata": {
        "colab": {
          "background_save": true
        },
        "id": "ZiNrIuuib_rS"
      },
      "outputs": [],
      "source": [
        "from sklearn.preprocessing import StandardScaler\n",
        "numerical_columns = ['pos_prob_d','neg_prob_d','XGBClassifier_0_Probability','XGBClassifier_1_Probability','LogisticRegression_1_Probability',\n",
        "                     'RandomForestClassifier_1_Probability','SVC_1_Probability']\n",
        "scaler = StandardScaler()\n",
        "df_monthly_smoothed[numerical_columns] = scaler.fit_transform(df_monthly_smoothed[numerical_columns])"
      ]
    },
    {
      "cell_type": "code",
      "execution_count": null,
      "metadata": {
        "colab": {
          "background_save": true
        },
        "id": "12H-EoVscQvv",
        "outputId": "5eec6d3f-1247-4c73-b8db-6d6764b97a62"
      },
      "outputs": [
        {
          "data": {
            "image/png": "[encoded data removed]",
            "text/plain": [
              "<Figure size 1000x600 with 1 Axes>"
            ]
          },
          "metadata": {},
          "output_type": "display_data"
        }
      ],
      "source": [
        "import matplotlib.pyplot as plt\n",
        "\n",
        "\n",
        "plt.figure(figsize=(10, 6))\n",
        "\n",
        "plt.plot(df_monthly_smoothed['Date'], df_monthly_smoothed['pos_prob_d'], marker='o',linestyle='-',color='red', label='Actual')\n",
        "plt.plot(df_monthly_smoothed['Date'], df_monthly_smoothed['XGBClassifier_1_Probability'], marker='o', linestyle='-', color='green', label='XGBoost')\n",
        "# # #plt.plot(df_monthly_smoothed['Date'], df_monthly_smoothed['K-NN_2_Probability'], marker='o', linestyle='-', color='purple', label='K-NNy')\n",
        "plt.plot(df_monthly_smoothed['Date'], df_monthly_smoothed['LogisticRegression_1_Probability'], marker='o', linestyle='-', color='orange', label='Logistic Regression')\n",
        "# #plt.plot(df_monthly_smoothed['Date'], df_monthly_smoothed['Naive Bayes_2_Probability'], marker='o', linestyle='-', color='pink', label='Naive Bayes')\n",
        "plt.plot(df_monthly_smoothed['Date'], df_monthly_smoothed['RandomForestClassifier_1_Probability'], marker='o', linestyle='-', color='gray', label='Random Forest')\n",
        "plt.plot(df_monthly_smoothed['Date'], df_monthly_smoothed['SVC_1_Probability'], marker='o', linestyle='-', color='limegreen', label='SVM')\n",
        "\n",
        "plt.xticks(df_monthly_smoothed['Date'], df_monthly_smoothed['Date'].dt.strftime('%B %Y'), rotation=45, ha='right')\n",
        "plt.title('Actual vs predicted')\n",
        "plt.xlabel('Date')\n",
        "plt.ylabel('Values')\n",
        "plt.legend()\n",
        "plt.grid(True)\n",
        "plt.tight_layout()\n",
        "plt.savefig('Linegraph.jpg')\n",
        "plt.show()\n"
      ]
    },
    {
      "cell_type": "code",
      "execution_count": null,
      "metadata": {
        "colab": {
          "background_save": true
        },
        "id": "JpRZIzjpb4fs"
      },
      "outputs": [],
      "source": [
        "df_monthly.to_csv(\"Chunk.csv\")"
      ]
    }
  ],
  "metadata": {
    "colab": {
      "provenance": []
    },
    "kernelspec": {
      "display_name": "Python 3",
      "name": "python3"
    },
    "language_info": {
      "name": "python"
    }
  },
  "nbformat": 4,
  "nbformat_minor": 0
}