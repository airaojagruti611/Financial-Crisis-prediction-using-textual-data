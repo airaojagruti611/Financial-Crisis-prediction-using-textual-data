{
  "nbformat": 4,
  "nbformat_minor": 0,
  "metadata": {
    "colab": {
      "provenance": []
    },
    "kernelspec": {
      "name": "python3",
      "display_name": "Python 3"
    },
    "language_info": {
      "name": "python"
    }
  },
  "cells": [
    {
      "cell_type": "code",
      "source": [
        "from google.colab import drive\n",
        "drive.mount('/content/drive')"
      ],
      "metadata": {
        "colab": {
          "base_uri": "https://localhost:8080/"
        },
        "id": "bG6xO1X5G0m6",
        "outputId": "8dc6362c-9634-4c08-ea15-a7c9d6f692fa"
      },
      "execution_count": null,
      "outputs": [
        {
          "output_type": "stream",
          "name": "stdout",
          "text": [
            "Drive already mounted at /content/drive; to attempt to forcibly remount, call drive.mount(\"/content/drive\", force_remount=True).\n"
          ]
        }
      ]
    },
    {
      "cell_type": "code",
      "source": [
        "!pip install krippendorff"
      ],
      "metadata": {
        "id": "chonTrPuOmNF",
        "colab": {
          "base_uri": "https://localhost:8080/"
        },
        "outputId": "516044c6-358e-4cac-c52c-c297bac39cc0"
      },
      "execution_count": null,
      "outputs": [
        {
          "output_type": "stream",
          "name": "stdout",
          "text": [
            "Requirement already satisfied: krippendorff in /usr/local/lib/python3.10/dist-packages (0.6.1)\n",
            "Requirement already satisfied: numpy<2.0,>=1.21 in /usr/local/lib/python3.10/dist-packages (from krippendorff) (1.23.5)\n"
          ]
        }
      ]
    },
    {
      "cell_type": "code",
      "source": [
        "import pandas as pd"
      ],
      "metadata": {
        "id": "Umj3sDiefaHf"
      },
      "execution_count": null,
      "outputs": []
    },
    {
      "cell_type": "code",
      "source": [
        "rel_df = pd.read_csv(\"/content/drive/MyDrive/SENTIMENT (1).CSV\", engine = 'python')"
      ],
      "metadata": {
        "id": "wnFgPVqXfcev"
      },
      "execution_count": null,
      "outputs": []
    },
    {
      "cell_type": "code",
      "source": [
        "from krippendorff import alpha\n",
        "\n",
        "categories = {\"positive\": 0, \"negative\": 1}\n",
        "annotators_columns = [\"bert_label\", \"roberta_label\",'finvader_label']\n",
        "#labels = rel_df[[\"finvader_label\",\"bert_label\", \"roberta_label\"]].values.tolist()\n",
        "data_numeric = [\n",
        "    [categories[rel_df.at[i, annotator]] for annotator in annotators_columns]\n",
        "    for i, row in rel_df.iterrows()\n",
        "]\n",
        "\n",
        "# Calculate Fleiss' Kappa\n",
        "kappa = alpha(data_numeric)\n",
        "print(\"Fleiss' Kappa:\", kappa)"
      ],
      "metadata": {
        "id": "Tm4osOkcOoUy",
        "colab": {
          "base_uri": "https://localhost:8080/"
        },
        "outputId": "b367e2f2-8152-4b07-8610-6789fb334dd2"
      },
      "execution_count": null,
      "outputs": [
        {
          "output_type": "stream",
          "name": "stdout",
          "text": [
            "Fleiss' Kappa: 0.010161550629085303\n"
          ]
        }
      ]
    },
    {
      "cell_type": "code",
      "source": [
        "from nltk import agreement\n",
        "label_mapping = {\"positive\": 0, \"negative\": 1}\n",
        "annotators = ['deberta_label','roberta_label', 'bert_label']\n",
        "\n",
        "for annotator in annotators:\n",
        "    rel_df[annotator] = rel_df[annotator].map(label_mapping)\n",
        "\n",
        "# Example data: rows represent items, columns represent annotators\n",
        "annotator_data = rel_df[annotators].values.tolist()\n",
        "\n",
        "# Create an instance of the AnnotationTask class\n",
        "task = agreement.AnnotationTask(annotator_data)\n",
        "\n",
        "# Calculate Fleiss' Kappa\n",
        "kappa_value = task.multi_kappa()\n",
        "\n",
        "print(\"Fleiss' Kappa:\", kappa_value)"
      ],
      "metadata": {
        "id": "dYH8RjM2Oqn5",
        "colab": {
          "base_uri": "https://localhost:8080/"
        },
        "outputId": "f9f5d473-17c9-4862-9d64-dbdc8d978661"
      },
      "execution_count": null,
      "outputs": [
        {
          "output_type": "stream",
          "name": "stdout",
          "text": [
            "Fleiss' Kappa: 1.000001252414028\n"
          ]
        }
      ]
    },
    {
      "cell_type": "code",
      "execution_count": null,
      "metadata": {
        "id": "YuOy76QwOCBq",
        "colab": {
          "base_uri": "https://localhost:8080/"
        },
        "outputId": "b640aab1-4027-4420-afa9-8fdf89a975af"
      },
      "outputs": [
        {
          "output_type": "stream",
          "name": "stdout",
          "text": [
            "Fleiss's Kappa: 0.5\n"
          ]
        }
      ],
      "source": [
        "from  nltk.metrics import agreement\n",
        "anno1_df = rel_df[['deberta_label']].copy()\n",
        "anno1_df.columns = [\"label_a1\"]\n",
        "anno2_df = rel_df[['roberta_label']].copy()\n",
        "anno2_df.columns = [\"label_a2\"]\n",
        "anno3_df = rel_df[['bert_label']].copy()\n",
        "anno3_df.columns = [\"label_a3\"]\n",
        "merged_df = anno1_df.join(anno2_df)\n",
        "merged_df = merged_df.join(anno3_df)\n",
        "labels_matched_df = merged_df.dropna()\n",
        "data = []\n",
        "for idx, row in labels_matched_df.iterrows():\n",
        "    data.append((\"a1\", idx, row[\"label_a1\"]))\n",
        "    data.append((\"a2\", idx, row[\"label_a2\"]))\n",
        "    data.append((\"a3\", idx, row[\"label_a3\"]))\n",
        "atask = agreement.AnnotationTask(data=data)\n",
        "print(\"Fleiss's Kappa:\", round(atask.multi_kappa(),2))\n"
      ]
    }
  ]
}